{
 "cells": [
  {
   "cell_type": "markdown",
   "metadata": {},
   "source": [
    "# WeatherPy\n",
    "----"
   ]
  },
  {
   "cell_type": "code",
   "execution_count": 1,
   "metadata": {
    "scrolled": true
   },
   "outputs": [],
   "source": [
    "# Import Dependencies\n",
    "import pandas as pd\n",
    "import matplotlib.pyplot as plt\n",
    "import json\n",
    "import requests\n",
    "from config import api_key\n",
    "import numpy as np\n",
    "import random\n",
    "from citipy import citipy\n",
    "import scipy.stats as sts"
   ]
  },
  {
   "cell_type": "markdown",
   "metadata": {},
   "source": [
    "## Generate Cities List"
   ]
  },
  {
   "cell_type": "code",
   "execution_count": 2,
   "metadata": {},
   "outputs": [],
   "source": [
    "lat = np.random.uniform(low = -90.000, high = 90.000, size = 2000)\n",
    "lon = np.random.uniform(low = -180.000, high = 180.000, size = 2000)\n",
    "lats = []\n",
    "lons = []"
   ]
  },
  {
   "cell_type": "code",
   "execution_count": 3,
   "metadata": {},
   "outputs": [],
   "source": [
    "for value in range(2000):\n",
    "    lats.append(lat[value].round(4))\n",
    "    lons.append(lon[value].round(4))"
   ]
  },
  {
   "cell_type": "code",
   "execution_count": 4,
   "metadata": {},
   "outputs": [],
   "source": [
    "city_loc = pd.DataFrame({\"Latitude\":lats,\n",
    "                           \"Longitude\":lons})"
   ]
  },
  {
   "cell_type": "code",
   "execution_count": 5,
   "metadata": {},
   "outputs": [],
   "source": [
    "cities = []\n",
    "for index, coordinate in city_loc.iterrows():\n",
    "    \n",
    "    city = citipy.nearest_city(coordinate[0],coordinate[1]).city_name\n",
    "    cities.append(city)\n",
    "city_loc[\"City\"] = cities"
   ]
  },
  {
   "cell_type": "code",
   "execution_count": 6,
   "metadata": {},
   "outputs": [],
   "source": [
    "city_loc = city_loc.drop_duplicates(\"City\")\n",
    "city_loc.head()\n",
    "cities = city_loc['City']"
   ]
  },
  {
   "cell_type": "markdown",
   "metadata": {},
   "source": [
    "t = f\"{url}&apikey={api_key}&q=Tokyo&units=imperial\"\n",
    "res = requests.get(t).json()\n",
    "res"
   ]
  },
  {
   "cell_type": "code",
   "execution_count": null,
   "metadata": {
    "scrolled": true
   },
   "outputs": [
    {
     "name": "stdout",
     "output_type": "stream",
     "text": [
      "Beginning Data Retrieval\n",
      "---------------------------\n",
      "Processing Record: 1 of set 1 | ancud\n",
      "Processing Record: 2 of set 1 | new norfolk\n",
      "Processing Record: 3 of set 1 | hilo\n",
      "Processing Record: 4 of set 1 | port elizabeth\n",
      "Processing Record: 5 of set 1 | swan hill\n",
      "Processing Record: 6 of set 1 | georgetown\n",
      "Processing Record: 7 of set 1 | ribeira grande\n",
      "Processing Record: 8 of set 1 | punta arenas\n",
      "Processing Record: 9 of set 1 | kovylkino\n",
      "Processing Record: 10 of set 1 | mataura\n",
      "Processing Record: 11 of set 1 | kodiak\n",
      "Processing Record: 12 of set 1 | nishihara\n",
      "Processing Record: 13 of set 1 | hermiston\n",
      "Processing Record: 14 of set 1 | tuktoyaktuk\n",
      "Processing Record: 15 of set 1 | richards bay\n",
      "Processing Record: 16 of set 1 | lixourion\n",
      "Processing Record: 17 of set 1 | qobustan\n",
      "Processing Record: 18 of set 1 | arraial do cabo\n",
      "Processing Record: 19 of set 1 | namibe\n",
      "Processing Record: 20 of set 1 | progreso\n",
      "Processing Record: 21 of set 1 | kavieng\n",
      "Processing Record: 22 of set 1 | quatre cocos\n",
      "Processing Record: 23 of set 1 | atuona\n",
      "City not found. Skipping...\n",
      "Processing Record: 25 of set 1 | sarankhola\n",
      "Processing Record: 26 of set 1 | broome\n",
      "Processing Record: 27 of set 1 | te anau\n",
      "Processing Record: 28 of set 1 | praya\n",
      "Processing Record: 29 of set 1 | jamestown\n",
      "Processing Record: 30 of set 1 | manokwari\n",
      "Processing Record: 31 of set 1 | yellowknife\n",
      "Processing Record: 32 of set 1 | cherskiy\n",
      "Processing Record: 33 of set 1 | lompoc\n",
      "Processing Record: 34 of set 1 | torbay\n",
      "Processing Record: 35 of set 1 | severo-kurilsk\n",
      "Processing Record: 36 of set 1 | talnakh\n",
      "Processing Record: 37 of set 1 | sur\n",
      "City not found. Skipping...\n",
      "Processing Record: 39 of set 1 | rikitea\n",
      "Processing Record: 40 of set 1 | beringovskiy\n",
      "Processing Record: 41 of set 1 | sabang\n",
      "Processing Record: 42 of set 1 | makakilo city\n",
      "City not found. Skipping...\n",
      "Processing Record: 44 of set 1 | ushuaia\n",
      "Processing Record: 45 of set 1 | kapaa\n",
      "Processing Record: 46 of set 1 | geraldton\n",
      "Processing Record: 47 of set 1 | dikson\n",
      "Processing Record: 48 of set 1 | kaitangata\n",
      "Processing Record: 49 of set 1 | inirida\n",
      "Processing Record: 50 of set 1 | nieuwpoort\n",
      "Processing Record: 1 of set 2 | tungor\n",
      "Processing Record: 2 of set 2 | port lincoln\n",
      "Processing Record: 3 of set 2 | bredasdorp\n",
      "Processing Record: 4 of set 2 | ampanihy\n",
      "Processing Record: 5 of set 2 | lata\n",
      "Processing Record: 6 of set 2 | privolzhsk\n",
      "Processing Record: 7 of set 2 | saldanha\n",
      "Processing Record: 8 of set 2 | okhotsk\n",
      "City not found. Skipping...\n",
      "Processing Record: 10 of set 2 | kharan\n",
      "Processing Record: 11 of set 2 | rosarito\n",
      "City not found. Skipping...\n",
      "Processing Record: 13 of set 2 | sa kaeo\n",
      "Processing Record: 14 of set 2 | souillac\n",
      "Processing Record: 15 of set 2 | solnechnyy\n",
      "Processing Record: 16 of set 2 | qaanaaq\n",
      "Processing Record: 17 of set 2 | baijiantan\n",
      "Processing Record: 18 of set 2 | havoysund\n",
      "Processing Record: 19 of set 2 | castro\n",
      "Processing Record: 20 of set 2 | vanavara\n",
      "Processing Record: 21 of set 2 | necochea\n",
      "Processing Record: 22 of set 2 | adrar\n",
      "Processing Record: 23 of set 2 | tura\n",
      "Processing Record: 24 of set 2 | san cristobal\n",
      "City not found. Skipping...\n",
      "Processing Record: 26 of set 2 | puerto ayora\n",
      "Processing Record: 27 of set 2 | bluff\n",
      "Processing Record: 28 of set 2 | portland\n",
      "Processing Record: 29 of set 2 | hobart\n",
      "Processing Record: 30 of set 2 | upernavik\n",
      "Processing Record: 31 of set 2 | alofi\n",
      "Processing Record: 32 of set 2 | khailar\n",
      "Processing Record: 33 of set 2 | caravelas\n",
      "Processing Record: 34 of set 2 | saint-philippe\n",
      "Processing Record: 35 of set 2 | lebu\n",
      "City not found. Skipping...\n",
      "Processing Record: 37 of set 2 | ponta do sol\n",
      "Processing Record: 38 of set 2 | atagay\n",
      "Processing Record: 39 of set 2 | vaini\n",
      "Processing Record: 40 of set 2 | haines junction\n",
      "Processing Record: 41 of set 2 | gat\n",
      "Processing Record: 42 of set 2 | sao filipe\n",
      "Processing Record: 43 of set 2 | bulungu\n",
      "Processing Record: 44 of set 2 | fairbanks\n",
      "Processing Record: 45 of set 2 | albany\n",
      "Processing Record: 46 of set 2 | luxor\n",
      "Processing Record: 47 of set 2 | esna\n",
      "Processing Record: 48 of set 2 | lovozero\n",
      "Processing Record: 49 of set 2 | puerto quijarro\n",
      "Processing Record: 50 of set 2 | ocampo\n",
      "Processing Record: 1 of set 3 | ukiah\n",
      "Processing Record: 2 of set 3 | egvekinot\n",
      "Processing Record: 3 of set 3 | busselton\n",
      "Processing Record: 4 of set 3 | aleksandrovskoye\n",
      "Processing Record: 5 of set 3 | mar del plata\n",
      "Processing Record: 6 of set 3 | pevek\n",
      "Processing Record: 7 of set 3 | antalaha\n",
      "Processing Record: 8 of set 3 | sibu\n",
      "Processing Record: 9 of set 3 | carnarvon\n",
      "Processing Record: 10 of set 3 | tsiroanomandidy\n",
      "Processing Record: 11 of set 3 | troitskoye\n",
      "Processing Record: 12 of set 3 | angoram\n",
      "Processing Record: 13 of set 3 | mbandaka\n",
      "Processing Record: 14 of set 3 | vardo\n",
      "Processing Record: 15 of set 3 | najran\n",
      "Processing Record: 16 of set 3 | kahului\n",
      "Processing Record: 17 of set 3 | saint-joseph\n",
      "Processing Record: 18 of set 3 | bonavista\n",
      "Processing Record: 19 of set 3 | diego de almagro\n",
      "City not found. Skipping...\n",
      "Processing Record: 21 of set 3 | saint joseph\n",
      "Processing Record: 22 of set 3 | savannah bight\n",
      "Processing Record: 23 of set 3 | kikwit\n",
      "Processing Record: 24 of set 3 | avarua\n",
      "Processing Record: 25 of set 3 | antsohihy\n",
      "City not found. Skipping...\n",
      "City not found. Skipping...\n",
      "Processing Record: 28 of set 3 | olafsvik\n",
      "Processing Record: 29 of set 3 | ambulu\n",
      "Processing Record: 30 of set 3 | bubaque\n",
      "Processing Record: 31 of set 3 | mimarsinan\n",
      "Processing Record: 32 of set 3 | dakar\n",
      "Processing Record: 33 of set 3 | trelew\n",
      "Processing Record: 34 of set 3 | ouidah\n",
      "City not found. Skipping...\n",
      "Processing Record: 36 of set 3 | nuuk\n",
      "Processing Record: 37 of set 3 | hermanus\n",
      "Processing Record: 38 of set 3 | illela\n",
      "Processing Record: 39 of set 3 | walvis bay\n",
      "Processing Record: 40 of set 3 | cabo san lucas\n",
      "City not found. Skipping...\n",
      "Processing Record: 42 of set 3 | barrow\n",
      "Processing Record: 43 of set 3 | pacific grove\n",
      "Processing Record: 44 of set 3 | corralillo\n",
      "Processing Record: 45 of set 3 | east london\n",
      "Processing Record: 46 of set 3 | rovaniemi\n",
      "Processing Record: 47 of set 3 | qingdao\n",
      "Processing Record: 48 of set 3 | kovdor\n",
      "Processing Record: 49 of set 3 | maniitsoq\n",
      "Processing Record: 50 of set 3 | bend\n",
      "City not found. Skipping...\n",
      "Processing Record: 2 of set 4 | san patricio\n",
      "Processing Record: 3 of set 4 | whitefish\n",
      "Processing Record: 4 of set 4 | moose factory\n",
      "Processing Record: 5 of set 4 | cabedelo\n",
      "Processing Record: 6 of set 4 | narsaq\n",
      "Processing Record: 7 of set 4 | morropon\n",
      "Processing Record: 8 of set 4 | cape town\n",
      "Processing Record: 9 of set 4 | nelson bay\n",
      "Processing Record: 10 of set 4 | cayenne\n",
      "Processing Record: 11 of set 4 | tiksi\n",
      "Processing Record: 12 of set 4 | namatanai\n",
      "City not found. Skipping...\n",
      "Processing Record: 14 of set 4 | klaksvik\n",
      "Processing Record: 15 of set 4 | rio grande\n",
      "Processing Record: 16 of set 4 | funtua\n",
      "Processing Record: 17 of set 4 | sitka\n",
      "Processing Record: 18 of set 4 | chokurdakh\n",
      "Processing Record: 19 of set 4 | luderitz\n",
      "Processing Record: 20 of set 4 | irbil\n",
      "City not found. Skipping...\n",
      "Processing Record: 22 of set 4 | tahta\n",
      "Processing Record: 23 of set 4 | viedma\n",
      "Processing Record: 24 of set 4 | butaritari\n",
      "Processing Record: 25 of set 4 | bungu\n",
      "Processing Record: 26 of set 4 | sant julia de loria\n",
      "Processing Record: 27 of set 4 | yerofey pavlovich\n",
      "Processing Record: 28 of set 4 | usoke\n",
      "City not found. Skipping...\n",
      "Processing Record: 30 of set 4 | mirnyy\n",
      "City not found. Skipping...\n",
      "Processing Record: 32 of set 4 | choix\n",
      "Processing Record: 33 of set 4 | piracanjuba\n",
      "Processing Record: 34 of set 4 | bengkulu\n",
      "Processing Record: 35 of set 4 | provideniya\n",
      "Processing Record: 36 of set 4 | airai\n",
      "Processing Record: 37 of set 4 | oranjemund\n",
      "Processing Record: 38 of set 4 | seoul\n",
      "Processing Record: 39 of set 4 | leningradskiy\n",
      "Processing Record: 40 of set 4 | acapulco\n",
      "Processing Record: 41 of set 4 | katsuura\n",
      "Processing Record: 42 of set 4 | pisco\n",
      "Processing Record: 43 of set 4 | nambucca heads\n",
      "Processing Record: 44 of set 4 | biak\n",
      "Processing Record: 45 of set 4 | nanortalik\n",
      "Processing Record: 46 of set 4 | westport\n",
      "Processing Record: 47 of set 4 | champerico\n",
      "Processing Record: 48 of set 4 | tasiilaq\n",
      "Processing Record: 49 of set 4 | praia da vitoria\n",
      "Processing Record: 50 of set 4 | kholmogory\n"
     ]
    },
    {
     "name": "stdout",
     "output_type": "stream",
     "text": [
      "Processing Record: 1 of set 5 | kavaratti\n",
      "Processing Record: 2 of set 5 | singaraja\n",
      "Processing Record: 3 of set 5 | cidreira\n",
      "Processing Record: 4 of set 5 | bahia blanca\n",
      "Processing Record: 5 of set 5 | tongliao\n",
      "Processing Record: 6 of set 5 | nikolskoye\n",
      "Processing Record: 7 of set 5 | maumere\n",
      "Processing Record: 8 of set 5 | tuatapere\n",
      "Processing Record: 9 of set 5 | borogontsy\n",
      "Processing Record: 10 of set 5 | ust-uda\n",
      "Processing Record: 11 of set 5 | atikokan\n",
      "City not found. Skipping...\n",
      "City not found. Skipping...\n",
      "Processing Record: 14 of set 5 | parkes\n",
      "Processing Record: 15 of set 5 | victoria\n",
      "City not found. Skipping...\n",
      "City not found. Skipping...\n",
      "Processing Record: 18 of set 5 | ilulissat\n",
      "Processing Record: 19 of set 5 | jitra\n",
      "Processing Record: 20 of set 5 | srandakan\n",
      "City not found. Skipping...\n",
      "Processing Record: 22 of set 5 | kristinehamn\n",
      "Processing Record: 23 of set 5 | sobolevo\n",
      "Processing Record: 24 of set 5 | kangaatsiaq\n",
      "Processing Record: 25 of set 5 | fortuna\n",
      "Processing Record: 26 of set 5 | tecozautla\n",
      "Processing Record: 27 of set 5 | hobyo\n",
      "Processing Record: 28 of set 5 | thompson\n",
      "Processing Record: 29 of set 5 | nefteyugansk\n",
      "Processing Record: 30 of set 5 | neiafu\n",
      "Processing Record: 31 of set 5 | gunzenhausen\n",
      "Processing Record: 32 of set 5 | waipawa\n",
      "Processing Record: 33 of set 5 | puerto narino\n",
      "Processing Record: 34 of set 5 | saskylakh\n",
      "Processing Record: 35 of set 5 | nanyamba\n",
      "Processing Record: 36 of set 5 | santa rosa\n",
      "Processing Record: 37 of set 5 | mondlo\n",
      "City not found. Skipping...\n",
      "Processing Record: 39 of set 5 | kathmandu\n",
      "Processing Record: 40 of set 5 | fort wayne\n",
      "Processing Record: 41 of set 5 | salalah\n",
      "Processing Record: 42 of set 5 | hithadhoo\n",
      "Processing Record: 43 of set 5 | rundu\n",
      "Processing Record: 44 of set 5 | camargo\n",
      "Processing Record: 45 of set 5 | booue\n",
      "City not found. Skipping...\n",
      "Processing Record: 47 of set 5 | saint anthony\n",
      "Processing Record: 48 of set 5 | mogadishu\n",
      "Processing Record: 49 of set 5 | kindersley\n",
      "Processing Record: 50 of set 5 | ecully\n",
      "Processing Record: 1 of set 6 | rocha\n",
      "Processing Record: 2 of set 6 | port alfred\n",
      "Processing Record: 3 of set 6 | puri\n",
      "Processing Record: 4 of set 6 | ambilobe\n",
      "Processing Record: 5 of set 6 | gravdal\n",
      "Processing Record: 6 of set 6 | general higinio morinigo\n",
      "City not found. Skipping...\n",
      "Processing Record: 8 of set 6 | shangzhi\n",
      "Processing Record: 9 of set 6 | turayf\n",
      "Processing Record: 10 of set 6 | danielskuil\n",
      "Processing Record: 11 of set 6 | codrington\n",
      "Processing Record: 12 of set 6 | ostrovnoy\n",
      "Processing Record: 13 of set 6 | college\n",
      "City not found. Skipping...\n",
      "Processing Record: 15 of set 6 | pinotepa nacional\n",
      "City not found. Skipping...\n",
      "Processing Record: 17 of set 6 | hovd\n",
      "City not found. Skipping...\n",
      "Processing Record: 19 of set 6 | eastbourne\n",
      "Processing Record: 20 of set 6 | faanui\n",
      "Processing Record: 21 of set 6 | karratha\n",
      "Processing Record: 22 of set 6 | visby\n",
      "Processing Record: 23 of set 6 | umm lajj\n",
      "Processing Record: 24 of set 6 | coquimbo\n",
      "City not found. Skipping...\n",
      "Processing Record: 26 of set 6 | karla\n",
      "Processing Record: 27 of set 6 | atherton\n",
      "Processing Record: 28 of set 6 | odweyne\n",
      "Processing Record: 29 of set 6 | pomabamba\n",
      "Processing Record: 30 of set 6 | hualmay\n",
      "Processing Record: 31 of set 6 | oistins\n",
      "Processing Record: 32 of set 6 | praia\n",
      "Processing Record: 33 of set 6 | channel-port aux basques\n",
      "Processing Record: 34 of set 6 | dingle\n",
      "Processing Record: 35 of set 6 | clyde river\n",
      "Processing Record: 36 of set 6 | opuwo\n",
      "Processing Record: 37 of set 6 | uaua\n",
      "Processing Record: 38 of set 6 | morondava\n",
      "Processing Record: 39 of set 6 | faya\n",
      "Processing Record: 40 of set 6 | gorom-gorom\n",
      "Processing Record: 41 of set 6 | zhangye\n",
      "Processing Record: 42 of set 6 | bethel\n",
      "Processing Record: 43 of set 6 | kalachinsk\n",
      "Processing Record: 44 of set 6 | dunedin\n",
      "Processing Record: 45 of set 6 | araouane\n",
      "Processing Record: 46 of set 6 | sitges\n",
      "Processing Record: 47 of set 6 | taltal\n",
      "Processing Record: 48 of set 6 | san andres\n",
      "Processing Record: 49 of set 6 | kautokeino\n",
      "Processing Record: 50 of set 6 | avanigadda\n",
      "Processing Record: 1 of set 7 | longyearbyen\n",
      "Processing Record: 2 of set 7 | komsomolskiy\n",
      "Processing Record: 3 of set 7 | balabac\n",
      "Processing Record: 4 of set 7 | bonfim\n",
      "Processing Record: 5 of set 7 | marquette\n",
      "City not found. Skipping...\n",
      "Processing Record: 7 of set 7 | mount gambier\n",
      "Processing Record: 8 of set 7 | vada\n",
      "Processing Record: 9 of set 7 | tucuma\n",
      "Processing Record: 10 of set 7 | montrose\n",
      "Processing Record: 11 of set 7 | chapada dos guimaraes\n",
      "Processing Record: 12 of set 7 | lakatoro\n",
      "City not found. Skipping...\n",
      "Processing Record: 14 of set 7 | fairlie\n",
      "City not found. Skipping...\n",
      "Processing Record: 16 of set 7 | benghazi\n",
      "Processing Record: 17 of set 7 | constitucion\n",
      "Processing Record: 18 of set 7 | sao joao da ponte\n",
      "Processing Record: 19 of set 7 | tabou\n",
      "Processing Record: 20 of set 7 | christchurch\n",
      "Processing Record: 21 of set 7 | harwich\n",
      "Processing Record: 22 of set 7 | balkhash\n",
      "Processing Record: 23 of set 7 | udachnyy\n",
      "Processing Record: 24 of set 7 | cervo\n",
      "Processing Record: 25 of set 7 | tlacotepec\n",
      "City not found. Skipping...\n",
      "Processing Record: 27 of set 7 | mwense\n",
      "Processing Record: 28 of set 7 | pampa\n",
      "Processing Record: 29 of set 7 | aguas formosas\n",
      "Processing Record: 30 of set 7 | kurumkan\n",
      "Processing Record: 31 of set 7 | springbok\n",
      "Processing Record: 32 of set 7 | lukaya\n",
      "Processing Record: 33 of set 7 | senanga\n",
      "Processing Record: 34 of set 7 | pocerski pricinovic\n",
      "Processing Record: 35 of set 7 | batagay\n",
      "Processing Record: 36 of set 7 | wanning\n",
      "Processing Record: 37 of set 7 | kumba\n",
      "Processing Record: 38 of set 7 | lerik\n",
      "Processing Record: 39 of set 7 | kilindoni\n",
      "Processing Record: 40 of set 7 | mangai\n",
      "Processing Record: 41 of set 7 | miles city\n",
      "Processing Record: 42 of set 7 | olinda\n",
      "Processing Record: 43 of set 7 | yakeshi\n",
      "Processing Record: 44 of set 7 | zhigansk\n",
      "Processing Record: 45 of set 7 | sawtell\n",
      "Processing Record: 46 of set 7 | grindavik\n",
      "City not found. Skipping...\n",
      "Processing Record: 48 of set 7 | atar\n",
      "Processing Record: 49 of set 7 | mosquera\n",
      "Processing Record: 50 of set 7 | gigmoto\n",
      "Processing Record: 1 of set 8 | bud\n",
      "Processing Record: 2 of set 8 | kawalu\n",
      "Processing Record: 3 of set 8 | katherine\n",
      "Processing Record: 4 of set 8 | porto belo\n",
      "Processing Record: 5 of set 8 | magoula\n",
      "Processing Record: 6 of set 8 | mezen\n",
      "Processing Record: 7 of set 8 | abha\n",
      "Processing Record: 8 of set 8 | puno\n",
      "Processing Record: 9 of set 8 | sumbawanga\n",
      "Processing Record: 10 of set 8 | pedasi\n",
      "Processing Record: 11 of set 8 | merauke\n",
      "Processing Record: 12 of set 8 | burnie\n",
      "Processing Record: 13 of set 8 | chiusi\n",
      "Processing Record: 14 of set 8 | sokoto\n",
      "Processing Record: 15 of set 8 | nome\n",
      "Processing Record: 16 of set 8 | conakry\n",
      "Processing Record: 17 of set 8 | chuy\n",
      "Processing Record: 18 of set 8 | moranbah\n",
      "Processing Record: 19 of set 8 | mandalgovi\n",
      "Processing Record: 20 of set 8 | khatanga\n",
      "Processing Record: 21 of set 8 | kruisfontein\n",
      "Processing Record: 22 of set 8 | santa maria\n",
      "City not found. Skipping...\n",
      "Processing Record: 24 of set 8 | chiang kham\n",
      "Processing Record: 25 of set 8 | eydhafushi\n",
      "Processing Record: 26 of set 8 | beyneu\n",
      "Processing Record: 27 of set 8 | sicamous\n",
      "Processing Record: 28 of set 8 | naze\n",
      "Processing Record: 29 of set 8 | fallon\n",
      "Processing Record: 30 of set 8 | bambanglipuro\n",
      "Processing Record: 31 of set 8 | nandura\n",
      "Processing Record: 32 of set 8 | ploemeur\n",
      "Processing Record: 33 of set 8 | shieli\n",
      "Processing Record: 34 of set 8 | port shepstone\n",
      "Processing Record: 35 of set 8 | lahaina\n",
      "Processing Record: 36 of set 8 | zhezkazgan\n",
      "Processing Record: 37 of set 8 | acarau\n",
      "Processing Record: 38 of set 8 | margate\n",
      "Processing Record: 39 of set 8 | altus\n",
      "Processing Record: 40 of set 8 | vila velha\n",
      "Processing Record: 41 of set 8 | luanda\n",
      "Processing Record: 42 of set 8 | victoria point\n",
      "Processing Record: 43 of set 8 | kiruna\n",
      "Processing Record: 44 of set 8 | tromso\n",
      "Processing Record: 45 of set 8 | joshimath\n",
      "Processing Record: 46 of set 8 | tsivilsk\n",
      "Processing Record: 47 of set 8 | aykhal\n",
      "Processing Record: 48 of set 8 | winter haven\n",
      "City not found. Skipping...\n",
      "Processing Record: 50 of set 8 | antofagasta\n",
      "Processing Record: 1 of set 9 | marsa matruh\n",
      "Processing Record: 2 of set 9 | grand gaube\n"
     ]
    },
    {
     "name": "stdout",
     "output_type": "stream",
     "text": [
      "Processing Record: 3 of set 9 | ellensburg\n",
      "Processing Record: 4 of set 9 | lasa\n",
      "Processing Record: 5 of set 9 | itarema\n",
      "Processing Record: 6 of set 9 | bonthe\n",
      "Processing Record: 7 of set 9 | kerch\n",
      "Processing Record: 8 of set 9 | siderno\n",
      "Processing Record: 9 of set 9 | filadelfia\n",
      "Processing Record: 10 of set 9 | wageningen\n",
      "Processing Record: 11 of set 9 | nizhniy kuranakh\n",
      "Processing Record: 12 of set 9 | thessalon\n",
      "Processing Record: 13 of set 9 | tiquisate\n",
      "Processing Record: 14 of set 9 | vao\n",
      "Processing Record: 15 of set 9 | janakpur\n",
      "Processing Record: 16 of set 9 | boa vista\n",
      "Processing Record: 17 of set 9 | oranjestad\n",
      "Processing Record: 18 of set 9 | isangel\n",
      "Processing Record: 19 of set 9 | metu\n",
      "Processing Record: 20 of set 9 | san policarpo\n",
      "Processing Record: 21 of set 9 | husavik\n",
      "City not found. Skipping...\n",
      "Processing Record: 23 of set 9 | bowmore\n",
      "Processing Record: 24 of set 9 | luba\n",
      "City not found. Skipping...\n",
      "Processing Record: 26 of set 9 | ahipara\n",
      "Processing Record: 27 of set 9 | baherden\n",
      "Processing Record: 28 of set 9 | llangefni\n",
      "Processing Record: 29 of set 9 | pekan\n",
      "Processing Record: 30 of set 9 | lanja\n",
      "Processing Record: 31 of set 9 | watsa\n",
      "Processing Record: 32 of set 9 | atambua\n",
      "Processing Record: 33 of set 9 | hasaki\n",
      "Processing Record: 34 of set 9 | aalten\n",
      "Processing Record: 35 of set 9 | guanica\n",
      "Processing Record: 36 of set 9 | sept-iles\n",
      "Processing Record: 37 of set 9 | sorkjosen\n",
      "City not found. Skipping...\n",
      "Processing Record: 39 of set 9 | campo grande\n",
      "Processing Record: 40 of set 9 | hamilton\n",
      "Processing Record: 41 of set 9 | bilma\n",
      "Processing Record: 42 of set 9 | naryan-mar\n",
      "City not found. Skipping...\n",
      "Processing Record: 44 of set 9 | sorland\n",
      "Processing Record: 45 of set 9 | salinopolis\n",
      "Processing Record: 46 of set 9 | sardinata\n",
      "Processing Record: 47 of set 9 | hukuntsi\n",
      "Processing Record: 48 of set 9 | saint-donat-de-montcalm\n",
      "Processing Record: 49 of set 9 | kozan\n",
      "Processing Record: 50 of set 9 | plettenberg bay\n",
      "Processing Record: 1 of set 10 | asau\n",
      "Processing Record: 2 of set 10 | cururupu\n",
      "Processing Record: 3 of set 10 | coahuayana\n",
      "Processing Record: 4 of set 10 | flin flon\n",
      "Processing Record: 5 of set 10 | mandera\n",
      "Processing Record: 6 of set 10 | ormara\n",
      "Processing Record: 7 of set 10 | aklavik\n",
      "Processing Record: 8 of set 10 | saint-pierre\n",
      "Processing Record: 9 of set 10 | mittagong\n",
      "Processing Record: 10 of set 10 | seymchan\n",
      "Processing Record: 11 of set 10 | port-gentil\n",
      "Processing Record: 12 of set 10 | sonoita\n",
      "Processing Record: 13 of set 10 | evansville\n",
      "Processing Record: 14 of set 10 | bandarbeyla\n",
      "Processing Record: 15 of set 10 | wattegama\n",
      "Processing Record: 16 of set 10 | altamira\n",
      "Processing Record: 17 of set 10 | jinxiang\n",
      "Processing Record: 18 of set 10 | celestun\n",
      "Processing Record: 19 of set 10 | kibala\n",
      "Processing Record: 20 of set 10 | ulladulla\n",
      "Processing Record: 21 of set 10 | changji\n",
      "Processing Record: 22 of set 10 | silver city\n",
      "Processing Record: 23 of set 10 | singapore\n",
      "Processing Record: 24 of set 10 | puerto escondido\n",
      "City not found. Skipping...\n",
      "Processing Record: 26 of set 10 | lagoa\n",
      "City not found. Skipping...\n",
      "Processing Record: 28 of set 10 | catarama\n",
      "Processing Record: 29 of set 10 | yulara\n",
      "Processing Record: 30 of set 10 | berlevag\n",
      "Processing Record: 31 of set 10 | were ilu\n",
      "Processing Record: 32 of set 10 | taber\n",
      "Processing Record: 33 of set 10 | hastings\n",
      "Processing Record: 34 of set 10 | guerrero negro\n",
      "City not found. Skipping...\n",
      "City not found. Skipping...\n",
      "Processing Record: 37 of set 10 | melipilla\n",
      "Processing Record: 38 of set 10 | saint george\n",
      "Processing Record: 39 of set 10 | okha\n",
      "Processing Record: 40 of set 10 | derzhavinsk\n",
      "Processing Record: 41 of set 10 | oshakati\n",
      "Processing Record: 42 of set 10 | guilin\n",
      "Processing Record: 43 of set 10 | lagdo\n",
      "Processing Record: 44 of set 10 | bambous virieux\n",
      "Processing Record: 45 of set 10 | bar harbor\n",
      "Processing Record: 46 of set 10 | ponta delgada\n",
      "Processing Record: 47 of set 10 | bousso\n",
      "Processing Record: 48 of set 10 | buin\n",
      "Processing Record: 49 of set 10 | amapa\n",
      "Processing Record: 50 of set 10 | siavonga\n",
      "Processing Record: 1 of set 11 | pochutla\n",
      "Processing Record: 2 of set 11 | hami\n",
      "Processing Record: 3 of set 11 | maragogi\n",
      "Processing Record: 4 of set 11 | aguimes\n",
      "Processing Record: 5 of set 11 | yakima\n",
      "Processing Record: 6 of set 11 | avera\n",
      "Processing Record: 7 of set 11 | touros\n",
      "Processing Record: 8 of set 11 | dudinka\n",
      "City not found. Skipping...\n",
      "Processing Record: 10 of set 11 | kosh-agach\n",
      "Processing Record: 11 of set 11 | puerto colombia\n",
      "Processing Record: 12 of set 11 | ocos\n",
      "Processing Record: 13 of set 11 | pakxan\n",
      "Processing Record: 14 of set 11 | iskateley\n",
      "City not found. Skipping...\n",
      "Processing Record: 16 of set 11 | zhenhai\n",
      "Processing Record: 17 of set 11 | ola\n",
      "Processing Record: 18 of set 11 | mareeba\n",
      "Processing Record: 19 of set 11 | leh\n",
      "Processing Record: 20 of set 11 | cameron park\n",
      "Processing Record: 21 of set 11 | llanes\n",
      "Processing Record: 22 of set 11 | belaya glina\n",
      "Processing Record: 23 of set 11 | kuragino\n",
      "Processing Record: 24 of set 11 | turukhansk\n",
      "Processing Record: 25 of set 11 | moron\n",
      "Processing Record: 26 of set 11 | stratford-upon-avon\n",
      "Processing Record: 27 of set 11 | nantucket\n",
      "Processing Record: 28 of set 11 | shirokiy\n",
      "Processing Record: 29 of set 11 | hit\n",
      "Processing Record: 30 of set 11 | caborca\n",
      "Processing Record: 31 of set 11 | yefremov\n",
      "Processing Record: 32 of set 11 | ossora\n",
      "Processing Record: 33 of set 11 | lesnyye polyany\n",
      "Processing Record: 34 of set 11 | kamenka\n",
      "Processing Record: 35 of set 11 | beckley\n",
      "Processing Record: 36 of set 11 | bijapur\n",
      "Processing Record: 37 of set 11 | mahebourg\n",
      "Processing Record: 38 of set 11 | buala\n",
      "City not found. Skipping...\n",
      "Processing Record: 40 of set 11 | billings\n",
      "Processing Record: 41 of set 11 | bathsheba\n",
      "Processing Record: 42 of set 11 | umm kaddadah\n",
      "Processing Record: 43 of set 11 | kalabo\n",
      "Processing Record: 44 of set 11 | nizwa\n",
      "Processing Record: 45 of set 11 | les herbiers\n",
      "Processing Record: 46 of set 11 | toktogul\n",
      "Processing Record: 47 of set 11 | monywa\n",
      "Processing Record: 48 of set 11 | ahualulco\n",
      "Processing Record: 49 of set 11 | lieksa\n",
      "Processing Record: 50 of set 11 | dongsheng\n",
      "Processing Record: 1 of set 12 | bolobo\n",
      "Processing Record: 2 of set 12 | westerly\n",
      "Processing Record: 3 of set 12 | zeya\n",
      "Processing Record: 4 of set 12 | eyl\n",
      "Processing Record: 5 of set 12 | vila franca do campo\n",
      "Processing Record: 6 of set 12 | hanyang\n",
      "Processing Record: 7 of set 12 | brownwood\n",
      "Processing Record: 8 of set 12 | guhagar\n",
      "Processing Record: 9 of set 12 | jibuti\n",
      "Processing Record: 10 of set 12 | falam\n",
      "Processing Record: 11 of set 12 | saint-georges\n",
      "Processing Record: 12 of set 12 | kaz\n",
      "Processing Record: 13 of set 12 | kaoma\n",
      "Processing Record: 14 of set 12 | naousa\n",
      "Processing Record: 15 of set 12 | qaqortoq\n",
      "Processing Record: 16 of set 12 | san jeronimo\n",
      "Processing Record: 17 of set 12 | chapadinha\n",
      "City not found. Skipping...\n",
      "Processing Record: 19 of set 12 | calais\n",
      "Processing Record: 20 of set 12 | san francisco\n",
      "Processing Record: 21 of set 12 | pandan\n"
     ]
    }
   ],
   "source": [
    "url = \"http://api.openweathermap.org/data/2.5/weather?\"\n",
    "max_temp = []\n",
    "humidity = []\n",
    "cloudiness = []\n",
    "windspeed = []\n",
    "country = []\n",
    "date = []\n",
    "lats = []\n",
    "lons = []\n",
    "cities_found = []\n",
    "\n",
    "index = 1\n",
    "Set = 1\n",
    "\n",
    "# Start\n",
    "print(\"Beginning Data Retrieval\")\n",
    "print(\"---------------------------\")\n",
    "\n",
    "# Middle\n",
    "for city in cities:\n",
    "    if index == 51:\n",
    "        index = 1\n",
    "        Set += 1\n",
    "    try:\n",
    "        query_url = f\"{url}&apikey={api_key}&q={city}&units=imperial\"\n",
    "        response = requests.get(query_url).json()\n",
    "        cities_found.append(response['name'])\n",
    "        max_temp.append(response['main']['temp_max'])\n",
    "        humidity.append(response['main']['humidity'])\n",
    "        cloudiness.append(response['clouds']['all'])\n",
    "        windspeed.append(response['wind']['speed'])\n",
    "        country.append(response['sys']['country'])\n",
    "        date.append(response['dt'])\n",
    "        lats.append(response['coord']['lat'])\n",
    "        lons.append(response['coord']['lon'])\n",
    "        print(f'Processing Record: {index} of set {Set} | {city}')\n",
    "        \n",
    "    except KeyError:\n",
    "        print('City not found. Skipping...')\n",
    "        \n",
    "    index += 1\n",
    "    \n",
    "# End\n",
    "print(\"---------------------------\")\n",
    "print(\"Data Retrieval Complete\")\n",
    "print(\"---------------------------\")"
   ]
  },
  {
   "cell_type": "code",
   "execution_count": null,
   "metadata": {},
   "outputs": [],
   "source": [
    "city_info = pd.DataFrame({\"City\":cities_found,\n",
    "                         \"Max Temperature\": max_temp,\n",
    "                         \"Cloudiness\":cloudiness,\n",
    "                         \"Wind Speed\": windspeed,\n",
    "                         \"Humidity\":humidity,\n",
    "                         \"Date\": date,\n",
    "                         \"Country\":country,\n",
    "                         \"Latitude\":lats,\n",
    "                         \"Longitude\":lons})"
   ]
  },
  {
   "cell_type": "code",
   "execution_count": null,
   "metadata": {},
   "outputs": [],
   "source": [
    "city_info.head(15)"
   ]
  },
  {
   "cell_type": "code",
   "execution_count": null,
   "metadata": {
    "scrolled": false
   },
   "outputs": [],
   "source": [
    "city_info = city_info.reindex(columns = ['City','Latitude',\"Longitude\",\n",
    "                                         \"Max Temperature\",\"Humidity\",\"Cloudiness\",\n",
    "                                         \"Country\",\"Wind Speed\",\"Date\"])\n",
    "city_info.to_csv('../Output/weather.csv',index = False, header = True)\n",
    "city_info.head(10)"
   ]
  },
  {
   "cell_type": "code",
   "execution_count": null,
   "metadata": {
    "scrolled": true
   },
   "outputs": [],
   "source": [
    "city_info.describe()"
   ]
  },
  {
   "cell_type": "markdown",
   "metadata": {},
   "source": [
    "We can see that there are no cities with a humidity greater than 100."
   ]
  },
  {
   "cell_type": "code",
   "execution_count": null,
   "metadata": {},
   "outputs": [],
   "source": [
    "city_info.loc[city_info['Humidity']>100]"
   ]
  },
  {
   "cell_type": "markdown",
   "metadata": {},
   "source": [
    "## Plotting the Data\n",
    "* Use proper labeling of the plots using plot titles (including date of analysis) and axes labels.\n",
    "* Save the plotted figures as .pngs."
   ]
  },
  {
   "cell_type": "markdown",
   "metadata": {},
   "source": [
    "## Latitude vs. Temperature Plot"
   ]
  },
  {
   "cell_type": "code",
   "execution_count": null,
   "metadata": {
    "scrolled": true
   },
   "outputs": [],
   "source": [
    "plt.scatter(city_info[\"Latitude\"],city_info[\"Max Temperature\"],edgecolors=\"black\",facecolors=\"violet\")\n",
    "plt.title(\"City Latitude vs. Max Temperature\")\n",
    "plt.xlabel(\"Latitude\")\n",
    "plt.ylabel(\"Max Temperature (F)\")\n",
    "plt.grid()\n",
    "plt.savefig('../output/Lat_vs_temp_scatter')\n",
    "plt.show()"
   ]
  },
  {
   "cell_type": "markdown",
   "metadata": {},
   "source": [
    "## Latitude vs. Humidity Plot"
   ]
  },
  {
   "cell_type": "code",
   "execution_count": null,
   "metadata": {},
   "outputs": [],
   "source": [
    "plt.scatter(city_info[\"Latitude\"],city_info[\"Humidity\"],edgecolors=\"black\",facecolors=\"violet\")\n",
    "plt.title(\"City Latitude vs. Humidity\")\n",
    "plt.xlabel(\"Latitude\")\n",
    "plt.ylabel(\"Humidity\")\n",
    "plt.grid()\n",
    "plt.savefig('../output/Lat_vs_humidity_scatter')\n",
    "plt.show()"
   ]
  },
  {
   "cell_type": "markdown",
   "metadata": {},
   "source": [
    "## Latitude vs. Cloudiness Plot"
   ]
  },
  {
   "cell_type": "code",
   "execution_count": null,
   "metadata": {},
   "outputs": [],
   "source": [
    "plt.scatter(city_info[\"Latitude\"],city_info[\"Cloudiness\"],edgecolors=\"black\",facecolors=\"violet\")\n",
    "plt.title(\"City Latitude vs. Cloudiness\")\n",
    "plt.xlabel(\"Latitude\")\n",
    "plt.ylabel(\"Cloudiness (%)\")\n",
    "plt.grid()\n",
    "plt.savefig('../output/Lat_vs_cloudiness_scatter')\n",
    "plt.show()"
   ]
  },
  {
   "cell_type": "markdown",
   "metadata": {},
   "source": [
    "## Latitude vs. Wind Speed Plot"
   ]
  },
  {
   "cell_type": "code",
   "execution_count": null,
   "metadata": {},
   "outputs": [],
   "source": [
    "plt.scatter(city_info[\"Latitude\"],city_info[\"Wind Speed\"],edgecolors=\"black\",facecolors=\"violet\")\n",
    "plt.title(\"City Latitude vs. Wind Speed\")\n",
    "plt.xlabel(\"Latitude\")\n",
    "plt.ylabel(\"Wind Speed (mph)\")\n",
    "plt.grid()\n",
    "plt.savefig('../output/Lat_vs_windspeed_scatter')\n",
    "plt.show()"
   ]
  },
  {
   "cell_type": "markdown",
   "metadata": {},
   "source": [
    "## Linear Regression"
   ]
  },
  {
   "cell_type": "markdown",
   "metadata": {},
   "source": [
    "####  Northern Hemisphere - Max Temp vs. Latitude Linear Regression"
   ]
  },
  {
   "cell_type": "code",
   "execution_count": null,
   "metadata": {},
   "outputs": [],
   "source": [
    "def plot_regress(x,y):\n",
    "    stats = sts.linregress(x,y)\n",
    "    stats\n",
    "    slope = stats[0]\n",
    "    intercept = stats[1]\n",
    "    r_val = stats[2]\n",
    "    mean = y.mean()\n",
    "    \n",
    "    plt.scatter(x,y)\n",
    "    plt.plot(x, x*slope+intercept, color = 'red')\n",
    "    plt.xlabel(\"Latitude\")\n",
    "    print(f\"The r-value is {r_val}\")"
   ]
  },
  {
   "cell_type": "code",
   "execution_count": null,
   "metadata": {
    "scrolled": true
   },
   "outputs": [],
   "source": [
    "plot_regress(city_info[\"Latitude\"],city_info[\"Max Temperature\"])\n",
    "plt.ylabel(\"Max Temperate (F)\")"
   ]
  },
  {
   "cell_type": "code",
   "execution_count": 46,
   "metadata": {},
   "outputs": [
    {
     "data": {
      "image/png": "[encoded data removed]",
      "text/plain": [
       "<Figure size 432x288 with 1 Axes>"
      ]
     },
     "metadata": {
      "needs_background": "light"
     },
     "output_type": "display_data"
    }
   ],
   "source": [
    "plt.scatter(city_info[\"Latitude\"],city_info[\"Max Temperature\"],facecolors=\"slateblue\")\n",
    "plt.title(\"City Latitude vs. Max Temperature\")\n",
    "plt.xlabel(\"Latitude\")\n",
    "plt.ylabel(\"Max Temperature (F)\")\n",
    "plt.savefig('../output/Lat_vs_temp_scatter')\n",
    "plt.show()"
   ]
  },
  {
   "cell_type": "code",
   "execution_count": 25,
   "metadata": {},
   "outputs": [
    {
     "name": "stdout",
     "output_type": "stream",
     "text": [
      "The r-value is: 0.46937863826630627\n"
     ]
    },
    {
     "data": {
      "image/png": "[encoded data removed]",
      "text/plain": [
       "<Figure size 432x288 with 1 Axes>"
      ]
     },
     "metadata": {
      "needs_background": "light"
     },
     "output_type": "display_data"
    }
   ],
   "source": []
  },
  {
   "cell_type": "markdown",
   "metadata": {},
   "source": [
    "####  Southern Hemisphere - Max Temp vs. Latitude Linear Regression"
   ]
  },
  {
   "cell_type": "code",
   "execution_count": 26,
   "metadata": {},
   "outputs": [
    {
     "name": "stdout",
     "output_type": "stream",
     "text": [
      "The r-value is: 0.6082708688906918\n"
     ]
    },
    {
     "data": {
      "image/png": "[encoded data removed]",
      "text/plain": [
       "<Figure size 432x288 with 1 Axes>"
      ]
     },
     "metadata": {
      "needs_background": "light"
     },
     "output_type": "display_data"
    }
   ],
   "source": []
  },
  {
   "cell_type": "markdown",
   "metadata": {},
   "source": [
    "####  Northern Hemisphere - Humidity (%) vs. Latitude Linear Regression"
   ]
  },
  {
   "cell_type": "code",
   "execution_count": 27,
   "metadata": {},
   "outputs": [
    {
     "name": "stdout",
     "output_type": "stream",
     "text": [
      "The r-value is: 0.000543987878808455\n"
     ]
    },
    {
     "data": {
      "image/png": "[encoded data removed]",
      "text/plain": [
       "<Figure size 432x288 with 1 Axes>"
      ]
     },
     "metadata": {
      "needs_background": "light"
     },
     "output_type": "display_data"
    }
   ],
   "source": []
  },
  {
   "cell_type": "markdown",
   "metadata": {},
   "source": [
    "####  Southern Hemisphere - Humidity (%) vs. Latitude Linear Regression"
   ]
  },
  {
   "cell_type": "code",
   "execution_count": 28,
   "metadata": {},
   "outputs": [
    {
     "name": "stdout",
     "output_type": "stream",
     "text": [
      "The r-value is: 0.014985174297345524\n"
     ]
    },
    {
     "data": {
      "image/png": "[encoded data removed]",
      "text/plain": [
       "<Figure size 432x288 with 1 Axes>"
      ]
     },
     "metadata": {
      "needs_background": "light"
     },
     "output_type": "display_data"
    }
   ],
   "source": []
  },
  {
   "cell_type": "markdown",
   "metadata": {},
   "source": [
    "####  Northern Hemisphere - Cloudiness (%) vs. Latitude Linear Regression"
   ]
  },
  {
   "cell_type": "code",
   "execution_count": 29,
   "metadata": {},
   "outputs": [
    {
     "name": "stdout",
     "output_type": "stream",
     "text": [
      "The r-value is: 0.0020898727664228514\n"
     ]
    },
    {
     "data": {
      "image/png": "[encoded data removed]",
      "text/plain": [
       "<Figure size 432x288 with 1 Axes>"
      ]
     },
     "metadata": {
      "needs_background": "light"
     },
     "output_type": "display_data"
    }
   ],
   "source": []
  },
  {
   "cell_type": "markdown",
   "metadata": {},
   "source": [
    "####  Southern Hemisphere - Cloudiness (%) vs. Latitude Linear Regression"
   ]
  },
  {
   "cell_type": "code",
   "execution_count": 30,
   "metadata": {},
   "outputs": [
    {
     "name": "stdout",
     "output_type": "stream",
     "text": [
      "The r-value is: 0.0035263772085582894\n"
     ]
    },
    {
     "data": {
      "image/png": "[encoded data removed]",
      "text/plain": [
       "<Figure size 432x288 with 1 Axes>"
      ]
     },
     "metadata": {
      "needs_background": "light"
     },
     "output_type": "display_data"
    }
   ],
   "source": []
  },
  {
   "cell_type": "markdown",
   "metadata": {},
   "source": [
    "####  Northern Hemisphere - Wind Speed (mph) vs. Latitude Linear Regression"
   ]
  },
  {
   "cell_type": "code",
   "execution_count": 31,
   "metadata": {},
   "outputs": [
    {
     "name": "stdout",
     "output_type": "stream",
     "text": [
      "The r-value is: 0.04019723576144484\n"
     ]
    },
    {
     "data": {
      "image/png": "[encoded data removed]",
      "text/plain": [
       "<Figure size 432x288 with 1 Axes>"
      ]
     },
     "metadata": {
      "needs_background": "light"
     },
     "output_type": "display_data"
    }
   ],
   "source": []
  },
  {
   "cell_type": "markdown",
   "metadata": {},
   "source": [
    "####  Southern Hemisphere - Wind Speed (mph) vs. Latitude Linear Regression"
   ]
  },
  {
   "cell_type": "code",
   "execution_count": 32,
   "metadata": {},
   "outputs": [
    {
     "name": "stdout",
     "output_type": "stream",
     "text": [
      "The r-value is: 0.017128274759839232\n"
     ]
    },
    {
     "data": {
      "image/png": "[encoded data removed]",
      "text/plain": [
       "<Figure size 432x288 with 1 Axes>"
      ]
     },
     "metadata": {
      "needs_background": "light"
     },
     "output_type": "display_data"
    }
   ],
   "source": []
  },
  {
   "cell_type": "code",
   "execution_count": null,
   "metadata": {},
   "outputs": [],
   "source": []
  }
 ],
 "metadata": {
  "anaconda-cloud": {},
  "kernel_info": {
   "name": "python3"
  },
  "kernelspec": {
   "display_name": "Python 3",
   "language": "python",
   "name": "python3"
  },
  "language_info": {
   "codemirror_mode": {
    "name": "ipython",
    "version": 3
   },
   "file_extension": ".py",
   "mimetype": "text/x-python",
   "name": "python",
   "nbconvert_exporter": "python",
   "pygments_lexer": "ipython3",
   "version": "3.6.10"
  },
  "latex_envs": {
   "LaTeX_envs_menu_present": true,
   "autoclose": false,
   "autocomplete": true,
   "bibliofile": "biblio.bib",
   "cite_by": "apalike",
   "current_citInitial": 1,
   "eqLabelWithNumbers": true,
   "eqNumInitial": 1,
   "hotkeys": {
    "equation": "Ctrl-E",
    "itemize": "Ctrl-I"
   },
   "labels_anchors": false,
   "latex_user_defs": false,
   "report_style_numbering": false,
   "user_envs_cfg": false
  },
  "nteract": {
   "version": "0.12.3"
  }
 },
 "nbformat": 4,
 "nbformat_minor": 2
}
