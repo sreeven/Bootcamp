{
 "cells": [
  {
   "cell_type": "markdown",
   "metadata": {},
   "source": [
    "# WeatherPy\n",
    "----"
   ]
  },
  {
   "cell_type": "code",
   "execution_count": 1,
   "metadata": {
    "scrolled": true
   },
   "outputs": [],
   "source": [
    "# Import Dependencies\n",
    "import pandas as pd\n",
    "import matplotlib.pyplot as plt\n",
    "import json\n",
    "import requests\n",
    "from config import api_key\n",
    "import numpy as np\n",
    "import random\n",
    "from citipy import citipy\n",
    "import scipy.stats as sts"
   ]
  },
  {
   "cell_type": "markdown",
   "metadata": {},
   "source": [
    "## Generate Cities List"
   ]
  },
  {
   "cell_type": "code",
   "execution_count": 2,
   "metadata": {},
   "outputs": [],
   "source": [
    "lat = np.random.uniform(low = -90.000, high = 90.000, size = 2000)\n",
    "lon = np.random.uniform(low = -180.000, high = 180.000, size = 2000)\n",
    "lats = []\n",
    "lons = []"
   ]
  },
  {
   "cell_type": "code",
   "execution_count": 3,
   "metadata": {},
   "outputs": [],
   "source": [
    "for value in range(2000):\n",
    "    lats.append(lat[value].round(4))\n",
    "    lons.append(lon[value].round(4))"
   ]
  },
  {
   "cell_type": "code",
   "execution_count": 4,
   "metadata": {},
   "outputs": [],
   "source": [
    "city_loc = pd.DataFrame({\"Latitude\":lats,\n",
    "                           \"Longitude\":lons})"
   ]
  },
  {
   "cell_type": "code",
   "execution_count": 5,
   "metadata": {},
   "outputs": [],
   "source": [
    "cities = []\n",
    "for index, coordinate in city_loc.iterrows():\n",
    "    \n",
    "    city = citipy.nearest_city(coordinate[0],coordinate[1]).city_name\n",
    "    cities.append(city)\n",
    "city_loc[\"City\"] = cities"
   ]
  },
  {
   "cell_type": "code",
   "execution_count": 6,
   "metadata": {},
   "outputs": [],
   "source": [
    "city_loc = city_loc.drop_duplicates(\"City\")\n",
    "city_loc.head()\n",
    "cities = city_loc['City']"
   ]
  },
  {
   "cell_type": "code",
   "execution_count": 7,
   "metadata": {
    "scrolled": true
   },
   "outputs": [
    {
     "name": "stdout",
     "output_type": "stream",
     "text": [
      "Beginning Data Retrieval\n",
      "---------------------------\n",
      "Processing Record: 1 of set 1 | shirokiy\n",
      "Processing Record: 2 of set 1 | mataura\n",
      "Processing Record: 3 of set 1 | hofn\n",
      "Processing Record: 4 of set 1 | kodiak\n",
      "Processing Record: 5 of set 1 | punta arenas\n",
      "Processing Record: 6 of set 1 | ostrovnoy\n",
      "City not found. Skipping...\n",
      "Processing Record: 8 of set 1 | port alfred\n",
      "Processing Record: 9 of set 1 | ballina\n",
      "Processing Record: 10 of set 1 | lorengau\n",
      "Processing Record: 11 of set 1 | ussel\n",
      "Processing Record: 12 of set 1 | hilo\n",
      "City not found. Skipping...\n",
      "Processing Record: 14 of set 1 | hobart\n",
      "Processing Record: 15 of set 1 | chokurdakh\n",
      "Processing Record: 16 of set 1 | ushuaia\n",
      "City not found. Skipping...\n",
      "Processing Record: 18 of set 1 | phan thiet\n",
      "Processing Record: 19 of set 1 | busselton\n",
      "Processing Record: 20 of set 1 | borogontsy\n",
      "Processing Record: 21 of set 1 | chuy\n",
      "Processing Record: 22 of set 1 | flinders\n",
      "Processing Record: 23 of set 1 | upernavik\n",
      "Processing Record: 24 of set 1 | xiaoweizhai\n",
      "Processing Record: 25 of set 1 | kurskaya\n",
      "Processing Record: 26 of set 1 | mendi\n",
      "Processing Record: 27 of set 1 | barrow\n",
      "Processing Record: 28 of set 1 | guerrero negro\n",
      "Processing Record: 29 of set 1 | new norfolk\n",
      "Processing Record: 30 of set 1 | tilichiki\n",
      "Processing Record: 31 of set 1 | qaanaaq\n",
      "Processing Record: 32 of set 1 | quelimane\n",
      "Processing Record: 33 of set 1 | hermanus\n",
      "Processing Record: 34 of set 1 | ergani\n",
      "Processing Record: 35 of set 1 | alyangula\n",
      "City not found. Skipping...\n",
      "Processing Record: 37 of set 1 | cabedelo\n",
      "Processing Record: 38 of set 1 | rikitea\n",
      "Processing Record: 39 of set 1 | poronaysk\n",
      "Processing Record: 40 of set 1 | verkhnevilyuysk\n",
      "Processing Record: 41 of set 1 | bredasdorp\n",
      "Processing Record: 42 of set 1 | belaya gora\n",
      "Processing Record: 43 of set 1 | port pirie\n",
      "Processing Record: 44 of set 1 | atuona\n",
      "Processing Record: 45 of set 1 | bluff\n",
      "Processing Record: 46 of set 1 | taoudenni\n",
      "City not found. Skipping...\n",
      "Processing Record: 48 of set 1 | cotonou\n",
      "Processing Record: 49 of set 1 | mahebourg\n",
      "Processing Record: 50 of set 1 | evensk\n",
      "Processing Record: 1 of set 2 | geraldton\n",
      "Processing Record: 2 of set 2 | ozernovskiy\n",
      "Processing Record: 3 of set 2 | manyana\n",
      "Processing Record: 4 of set 2 | puerto ayora\n",
      "Processing Record: 5 of set 2 | konstantinovskiy\n",
      "Processing Record: 6 of set 2 | bethel\n",
      "Processing Record: 7 of set 2 | tuktoyaktuk\n",
      "Processing Record: 8 of set 2 | amapa\n",
      "City not found. Skipping...\n",
      "Processing Record: 10 of set 2 | jacareacanga\n",
      "City not found. Skipping...\n",
      "Processing Record: 12 of set 2 | nikolskoye\n",
      "Processing Record: 13 of set 2 | rusne\n",
      "Processing Record: 14 of set 2 | port blair\n",
      "Processing Record: 15 of set 2 | birao\n",
      "Processing Record: 16 of set 2 | honiara\n",
      "City not found. Skipping...\n",
      "Processing Record: 18 of set 2 | avarua\n",
      "City not found. Skipping...\n",
      "Processing Record: 20 of set 2 | east london\n",
      "Processing Record: 21 of set 2 | provideniya\n",
      "Processing Record: 22 of set 2 | castro\n",
      "Processing Record: 23 of set 2 | paita\n",
      "Processing Record: 24 of set 2 | gizo\n",
      "Processing Record: 25 of set 2 | port lincoln\n",
      "Processing Record: 26 of set 2 | dikson\n",
      "Processing Record: 27 of set 2 | puerto del rosario\n",
      "Processing Record: 28 of set 2 | ozinki\n",
      "Processing Record: 29 of set 2 | isangel\n",
      "Processing Record: 30 of set 2 | san pedro\n",
      "Processing Record: 31 of set 2 | antofagasta\n",
      "Processing Record: 32 of set 2 | torbay\n",
      "Processing Record: 33 of set 2 | jatiroto\n",
      "Processing Record: 34 of set 2 | adrar\n",
      "Processing Record: 35 of set 2 | mar del plata\n",
      "Processing Record: 36 of set 2 | wah\n",
      "Processing Record: 37 of set 2 | victoria\n",
      "Processing Record: 38 of set 2 | shumskiy\n",
      "Processing Record: 39 of set 2 | wajid\n",
      "Processing Record: 40 of set 2 | longyearbyen\n",
      "Processing Record: 41 of set 2 | havre-saint-pierre\n",
      "Processing Record: 42 of set 2 | cape town\n",
      "Processing Record: 43 of set 2 | yining\n",
      "Processing Record: 44 of set 2 | kahului\n",
      "Processing Record: 45 of set 2 | jamestown\n",
      "Processing Record: 46 of set 2 | yashkul\n",
      "Processing Record: 47 of set 2 | port elizabeth\n",
      "Processing Record: 48 of set 2 | albany\n",
      "City not found. Skipping...\n",
      "Processing Record: 50 of set 2 | salalah\n",
      "Processing Record: 1 of set 3 | poitiers\n",
      "Processing Record: 2 of set 3 | sao joao da barra\n",
      "Processing Record: 3 of set 3 | uruzgan\n",
      "Processing Record: 4 of set 3 | antalaha\n",
      "Processing Record: 5 of set 3 | butaritari\n",
      "Processing Record: 6 of set 3 | mount gambier\n",
      "Processing Record: 7 of set 3 | norman wells\n",
      "Processing Record: 8 of set 3 | xucheng\n",
      "Processing Record: 9 of set 3 | khatanga\n",
      "Processing Record: 10 of set 3 | port said\n",
      "Processing Record: 11 of set 3 | nanortalik\n",
      "City not found. Skipping...\n",
      "Processing Record: 13 of set 3 | grand gaube\n",
      "Processing Record: 14 of set 3 | arona\n",
      "Processing Record: 15 of set 3 | saint george\n",
      "Processing Record: 16 of set 3 | teguise\n",
      "Processing Record: 17 of set 3 | tuatapere\n",
      "Processing Record: 18 of set 3 | kaitangata\n",
      "Processing Record: 19 of set 3 | newport\n",
      "Processing Record: 20 of set 3 | tasiilaq\n",
      "Processing Record: 21 of set 3 | cidreira\n",
      "City not found. Skipping...\n",
      "Processing Record: 23 of set 3 | ashland\n",
      "Processing Record: 24 of set 3 | carnarvon\n",
      "Processing Record: 25 of set 3 | greenville\n",
      "Processing Record: 26 of set 3 | narsaq\n",
      "City not found. Skipping...\n",
      "Processing Record: 28 of set 3 | husavik\n",
      "Processing Record: 29 of set 3 | ordzhonikidze\n",
      "City not found. Skipping...\n",
      "Processing Record: 31 of set 3 | goderich\n",
      "Processing Record: 32 of set 3 | kruisfontein\n",
      "Processing Record: 33 of set 3 | sao filipe\n",
      "Processing Record: 34 of set 3 | ahuimanu\n",
      "Processing Record: 35 of set 3 | saint-augustin\n",
      "Processing Record: 36 of set 3 | road town\n",
      "Processing Record: 37 of set 3 | faanui\n",
      "Processing Record: 38 of set 3 | annan\n",
      "Processing Record: 39 of set 3 | sistranda\n",
      "Processing Record: 40 of set 3 | the valley\n",
      "Processing Record: 41 of set 3 | barmer\n",
      "Processing Record: 42 of set 3 | saint-philippe\n",
      "Processing Record: 43 of set 3 | fortuna\n",
      "Processing Record: 44 of set 3 | ugoofaaru\n",
      "Processing Record: 45 of set 3 | korhogo\n",
      "Processing Record: 46 of set 3 | vaini\n",
      "Processing Record: 47 of set 3 | olafsvik\n",
      "Processing Record: 48 of set 3 | manicore\n",
      "Processing Record: 49 of set 3 | grindavik\n",
      "Processing Record: 50 of set 3 | evanston\n",
      "Processing Record: 1 of set 4 | lumeje\n",
      "Processing Record: 2 of set 4 | purmerend\n",
      "Processing Record: 3 of set 4 | bolkhov\n",
      "City not found. Skipping...\n",
      "Processing Record: 5 of set 4 | rajshahi\n",
      "Processing Record: 6 of set 4 | cairns\n",
      "Processing Record: 7 of set 4 | luderitz\n",
      "Processing Record: 8 of set 4 | lebu\n",
      "Processing Record: 9 of set 4 | tahta\n",
      "Processing Record: 10 of set 4 | cap malheureux\n",
      "Processing Record: 11 of set 4 | havelock\n",
      "Processing Record: 12 of set 4 | mangan\n",
      "Processing Record: 13 of set 4 | merritt island\n",
      "Processing Record: 14 of set 4 | rawson\n",
      "Processing Record: 15 of set 4 | partanna\n",
      "Processing Record: 16 of set 4 | cayenne\n",
      "Processing Record: 17 of set 4 | osoyoos\n",
      "Processing Record: 18 of set 4 | vao\n",
      "Processing Record: 19 of set 4 | kapaa\n",
      "Processing Record: 20 of set 4 | hithadhoo\n",
      "Processing Record: 21 of set 4 | dargaville\n",
      "City not found. Skipping...\n",
      "Processing Record: 23 of set 4 | alofi\n",
      "Processing Record: 24 of set 4 | thompson\n",
      "Processing Record: 25 of set 4 | bandarbeyla\n",
      "City not found. Skipping...\n",
      "Processing Record: 27 of set 4 | turukhansk\n",
      "Processing Record: 28 of set 4 | tessalit\n",
      "Processing Record: 29 of set 4 | palmer\n",
      "Processing Record: 30 of set 4 | yellowknife\n",
      "Processing Record: 31 of set 4 | xam nua\n",
      "Processing Record: 32 of set 4 | thinadhoo\n",
      "Processing Record: 33 of set 4 | lubao\n",
      "Processing Record: 34 of set 4 | severo-kurilsk\n",
      "City not found. Skipping...\n",
      "Processing Record: 36 of set 4 | inverness\n",
      "Processing Record: 37 of set 4 | poum\n",
      "Processing Record: 38 of set 4 | sola\n",
      "Processing Record: 39 of set 4 | necochea\n",
      "Processing Record: 40 of set 4 | fairbanks\n",
      "Processing Record: 41 of set 4 | kentau\n",
      "Processing Record: 42 of set 4 | bela\n",
      "Processing Record: 43 of set 4 | kasempa\n",
      "Processing Record: 44 of set 4 | hovd\n",
      "Processing Record: 45 of set 4 | esperance\n",
      "Processing Record: 46 of set 4 | am timan\n",
      "Processing Record: 47 of set 4 | homer\n",
      "City not found. Skipping...\n",
      "Processing Record: 49 of set 4 | airai\n",
      "Processing Record: 50 of set 4 | san vicente\n",
      "City not found. Skipping...\n"
     ]
    },
    {
     "name": "stdout",
     "output_type": "stream",
     "text": [
      "Processing Record: 2 of set 5 | naze\n",
      "Processing Record: 3 of set 5 | namatanai\n",
      "Processing Record: 4 of set 5 | makakilo city\n",
      "Processing Record: 5 of set 5 | at-bashi\n",
      "Processing Record: 6 of set 5 | west bay\n",
      "Processing Record: 7 of set 5 | lagoa\n",
      "Processing Record: 8 of set 5 | hamilton\n",
      "Processing Record: 9 of set 5 | khorixas\n",
      "City not found. Skipping...\n",
      "Processing Record: 11 of set 5 | mouila\n",
      "Processing Record: 12 of set 5 | inuvik\n",
      "Processing Record: 13 of set 5 | walvis bay\n",
      "Processing Record: 14 of set 5 | east wenatchee\n",
      "Processing Record: 15 of set 5 | port macquarie\n",
      "Processing Record: 16 of set 5 | radstadt\n",
      "Processing Record: 17 of set 5 | bonavista\n",
      "Processing Record: 18 of set 5 | teluk nibung\n",
      "Processing Record: 19 of set 5 | alekseyevskoye\n",
      "Processing Record: 20 of set 5 | mitsamiouli\n",
      "Processing Record: 21 of set 5 | tarazona\n",
      "Processing Record: 22 of set 5 | papetoai\n",
      "Processing Record: 23 of set 5 | broken hill\n",
      "Processing Record: 24 of set 5 | alta floresta\n",
      "City not found. Skipping...\n",
      "City not found. Skipping...\n",
      "City not found. Skipping...\n",
      "Processing Record: 28 of set 5 | talcahuano\n",
      "Processing Record: 29 of set 5 | lompoc\n",
      "Processing Record: 30 of set 5 | kirkwall\n",
      "Processing Record: 31 of set 5 | dunedin\n",
      "Processing Record: 32 of set 5 | mayo\n",
      "Processing Record: 33 of set 5 | tautira\n",
      "City not found. Skipping...\n",
      "Processing Record: 35 of set 5 | zuya\n",
      "Processing Record: 36 of set 5 | gamba\n",
      "Processing Record: 37 of set 5 | alice springs\n",
      "Processing Record: 38 of set 5 | bathsheba\n",
      "Processing Record: 39 of set 5 | chabahar\n",
      "Processing Record: 40 of set 5 | belmonte\n",
      "Processing Record: 41 of set 5 | saskylakh\n",
      "Processing Record: 42 of set 5 | bambous virieux\n",
      "Processing Record: 43 of set 5 | aklavik\n",
      "Processing Record: 44 of set 5 | hasaki\n",
      "Processing Record: 45 of set 5 | bosaso\n",
      "Processing Record: 46 of set 5 | ponta do sol\n",
      "Processing Record: 47 of set 5 | mackenzie\n",
      "Processing Record: 48 of set 5 | maymyo\n",
      "Processing Record: 49 of set 5 | asau\n",
      "Processing Record: 50 of set 5 | ola\n",
      "Processing Record: 1 of set 6 | vila velha\n",
      "Processing Record: 2 of set 6 | clyde river\n",
      "Processing Record: 3 of set 6 | mto wa mbu\n",
      "Processing Record: 4 of set 6 | tadine\n",
      "Processing Record: 5 of set 6 | roma\n",
      "Processing Record: 6 of set 6 | kudahuvadhoo\n",
      "Processing Record: 7 of set 6 | otatitlan\n",
      "Processing Record: 8 of set 6 | praia\n",
      "Processing Record: 9 of set 6 | la cruz\n",
      "Processing Record: 10 of set 6 | san cristobal\n",
      "Processing Record: 11 of set 6 | carutapera\n",
      "Processing Record: 12 of set 6 | portobelo\n",
      "Processing Record: 13 of set 6 | dabakala\n",
      "Processing Record: 14 of set 6 | redmond\n",
      "Processing Record: 15 of set 6 | awjilah\n",
      "Processing Record: 16 of set 6 | bairiki\n",
      "Processing Record: 17 of set 6 | sakakah\n",
      "Processing Record: 18 of set 6 | xinqing\n",
      "Processing Record: 19 of set 6 | moree\n",
      "Processing Record: 20 of set 6 | biltine\n",
      "Processing Record: 21 of set 6 | oktyabrskiy\n",
      "Processing Record: 22 of set 6 | sitka\n",
      "Processing Record: 23 of set 6 | oloron-sainte-marie\n",
      "Processing Record: 24 of set 6 | natal\n",
      "Processing Record: 25 of set 6 | praia da vitoria\n",
      "Processing Record: 26 of set 6 | riviere-au-renard\n",
      "Processing Record: 27 of set 6 | kashi\n",
      "Processing Record: 28 of set 6 | isiro\n",
      "Processing Record: 29 of set 6 | vardo\n",
      "Processing Record: 30 of set 6 | lubango\n",
      "Processing Record: 31 of set 6 | vista hermosa\n",
      "City not found. Skipping...\n",
      "Processing Record: 33 of set 6 | marsaxlokk\n",
      "Processing Record: 34 of set 6 | college\n",
      "Processing Record: 35 of set 6 | ryotsu\n",
      "Processing Record: 36 of set 6 | iqaluit\n",
      "Processing Record: 37 of set 6 | vila franca do campo\n",
      "City not found. Skipping...\n",
      "Processing Record: 39 of set 6 | ponta delgada\n",
      "Processing Record: 40 of set 6 | zhigansk\n",
      "Processing Record: 41 of set 6 | kjopsvik\n",
      "Processing Record: 42 of set 6 | leningradskiy\n",
      "Processing Record: 43 of set 6 | yerbogachen\n",
      "Processing Record: 44 of set 6 | georgetown\n",
      "Processing Record: 45 of set 6 | kemijarvi\n",
      "Processing Record: 46 of set 6 | bonaventure\n",
      "Processing Record: 47 of set 6 | pochutla\n",
      "Processing Record: 48 of set 6 | mackay\n",
      "City not found. Skipping...\n",
      "Processing Record: 50 of set 6 | kattivakkam\n",
      "Processing Record: 1 of set 7 | kavieng\n",
      "Processing Record: 2 of set 7 | vila do maio\n",
      "Processing Record: 3 of set 7 | bilibino\n",
      "Processing Record: 4 of set 7 | cockburn town\n",
      "Processing Record: 5 of set 7 | ancud\n",
      "City not found. Skipping...\n",
      "Processing Record: 7 of set 7 | bida\n",
      "Processing Record: 8 of set 7 | sept-iles\n",
      "Processing Record: 9 of set 7 | athabasca\n",
      "Processing Record: 10 of set 7 | asilah\n",
      "Processing Record: 11 of set 7 | chilca\n",
      "Processing Record: 12 of set 7 | kieta\n",
      "City not found. Skipping...\n",
      "Processing Record: 14 of set 7 | kununurra\n",
      "Processing Record: 15 of set 7 | nelidovo\n",
      "Processing Record: 16 of set 7 | barretos\n",
      "City not found. Skipping...\n",
      "Processing Record: 18 of set 7 | verkhoyansk\n",
      "Processing Record: 19 of set 7 | sharjah\n",
      "Processing Record: 20 of set 7 | sabha\n",
      "Processing Record: 21 of set 7 | presidencia roque saenz pena\n",
      "Processing Record: 22 of set 7 | lavrentiya\n",
      "Processing Record: 23 of set 7 | freeport\n",
      "Processing Record: 24 of set 7 | san patricio\n",
      "City not found. Skipping...\n",
      "Processing Record: 26 of set 7 | oksfjord\n",
      "Processing Record: 27 of set 7 | nouakchott\n",
      "Processing Record: 28 of set 7 | sable-sur-sarthe\n",
      "Processing Record: 29 of set 7 | salinas\n",
      "Processing Record: 30 of set 7 | san andres\n",
      "Processing Record: 31 of set 7 | rosetta\n",
      "Processing Record: 32 of set 7 | khandyga\n",
      "Processing Record: 33 of set 7 | tucuman\n",
      "City not found. Skipping...\n",
      "Processing Record: 35 of set 7 | bloemfontein\n",
      "Processing Record: 36 of set 7 | sangar\n",
      "Processing Record: 37 of set 7 | anqing\n",
      "Processing Record: 38 of set 7 | ternate\n",
      "Processing Record: 39 of set 7 | sungairaya\n",
      "Processing Record: 40 of set 7 | mayahi\n",
      "Processing Record: 41 of set 7 | hailar\n",
      "Processing Record: 42 of set 7 | buala\n",
      "Processing Record: 43 of set 7 | arraial do cabo\n",
      "Processing Record: 44 of set 7 | banda aceh\n",
      "City not found. Skipping...\n",
      "Processing Record: 46 of set 7 | mutare\n",
      "Processing Record: 47 of set 7 | dakoro\n",
      "Processing Record: 48 of set 7 | matara\n",
      "Processing Record: 49 of set 7 | andenes\n",
      "Processing Record: 50 of set 7 | dandong\n",
      "Processing Record: 1 of set 8 | ewing\n",
      "Processing Record: 2 of set 8 | youghal\n",
      "Processing Record: 3 of set 8 | hobyo\n",
      "Processing Record: 4 of set 8 | comodoro rivadavia\n",
      "Processing Record: 5 of set 8 | pacific grove\n",
      "Processing Record: 6 of set 8 | souillac\n",
      "Processing Record: 7 of set 8 | rivne\n",
      "Processing Record: 8 of set 8 | zeya\n",
      "Processing Record: 9 of set 8 | monrovia\n",
      "Processing Record: 10 of set 8 | korla\n",
      "Processing Record: 11 of set 8 | soyo\n",
      "Processing Record: 12 of set 8 | oxapampa\n",
      "Processing Record: 13 of set 8 | pevek\n",
      "Processing Record: 14 of set 8 | vanimo\n",
      "Processing Record: 15 of set 8 | tukrah\n",
      "Processing Record: 16 of set 8 | portland\n",
      "Processing Record: 17 of set 8 | samarai\n",
      "Processing Record: 18 of set 8 | nuuk\n",
      "Processing Record: 19 of set 8 | codrington\n",
      "Processing Record: 20 of set 8 | terra santa\n",
      "Processing Record: 21 of set 8 | cajazeiras\n",
      "Processing Record: 22 of set 8 | wakkanai\n",
      "Processing Record: 23 of set 8 | la reforma\n",
      "Processing Record: 24 of set 8 | correntina\n",
      "Processing Record: 25 of set 8 | pondicherry\n",
      "Processing Record: 26 of set 8 | mamallapuram\n",
      "Processing Record: 27 of set 8 | nyrob\n",
      "Processing Record: 28 of set 8 | ancona\n",
      "Processing Record: 29 of set 8 | hambantota\n",
      "City not found. Skipping...\n",
      "Processing Record: 31 of set 8 | svetlyy\n",
      "Processing Record: 32 of set 8 | show low\n",
      "Processing Record: 33 of set 8 | maloy\n",
      "Processing Record: 34 of set 8 | kaliua\n",
      "Processing Record: 35 of set 8 | barcelos\n",
      "Processing Record: 36 of set 8 | dymer\n",
      "Processing Record: 37 of set 8 | pisco\n",
      "Processing Record: 38 of set 8 | north platte\n",
      "Processing Record: 39 of set 8 | shimabara\n",
      "Processing Record: 40 of set 8 | itoman\n",
      "Processing Record: 41 of set 8 | marang\n",
      "Processing Record: 42 of set 8 | cabo san lucas\n",
      "Processing Record: 43 of set 8 | pomabamba\n",
      "Processing Record: 44 of set 8 | houma\n",
      "Processing Record: 45 of set 8 | baft\n",
      "Processing Record: 46 of set 8 | kloulklubed\n",
      "Processing Record: 47 of set 8 | buriti bravo\n",
      "Processing Record: 48 of set 8 | talnakh\n",
      "Processing Record: 49 of set 8 | baykit\n",
      "Processing Record: 50 of set 8 | francistown\n",
      "Processing Record: 1 of set 9 | egvekinot\n"
     ]
    },
    {
     "name": "stdout",
     "output_type": "stream",
     "text": [
      "City not found. Skipping...\n",
      "Processing Record: 3 of set 9 | ouallam\n",
      "Processing Record: 4 of set 9 | dukat\n",
      "Processing Record: 5 of set 9 | nome\n",
      "Processing Record: 6 of set 9 | usinsk\n",
      "Processing Record: 7 of set 9 | leiyang\n",
      "Processing Record: 8 of set 9 | komsomolskiy\n",
      "Processing Record: 9 of set 9 | roseburg\n",
      "Processing Record: 10 of set 9 | buchanan\n",
      "Processing Record: 11 of set 9 | timiryazevskiy\n",
      "Processing Record: 12 of set 9 | tekari\n",
      "Processing Record: 13 of set 9 | yarada\n",
      "Processing Record: 14 of set 9 | moose factory\n",
      "Processing Record: 15 of set 9 | sibut\n",
      "Processing Record: 16 of set 9 | auchi\n",
      "Processing Record: 17 of set 9 | ulaangom\n",
      "Processing Record: 18 of set 9 | virginia beach\n",
      "Processing Record: 19 of set 9 | broome\n",
      "Processing Record: 20 of set 9 | katsuura\n",
      "Processing Record: 21 of set 9 | ilulissat\n",
      "Processing Record: 22 of set 9 | bengkulu\n",
      "Processing Record: 23 of set 9 | muroto\n",
      "Processing Record: 24 of set 9 | micheweni\n",
      "Processing Record: 25 of set 9 | cassilandia\n",
      "Processing Record: 26 of set 9 | devonport\n",
      "Processing Record: 27 of set 9 | balkhash\n",
      "Processing Record: 28 of set 9 | tomatlan\n",
      "Processing Record: 29 of set 9 | saldanha\n",
      "Processing Record: 30 of set 9 | borkenes\n",
      "Processing Record: 31 of set 9 | laguna\n",
      "Processing Record: 32 of set 9 | prainha\n",
      "Processing Record: 33 of set 9 | grabs\n",
      "Processing Record: 34 of set 9 | ribeira grande\n",
      "Processing Record: 35 of set 9 | remanso\n",
      "Processing Record: 36 of set 9 | cherskiy\n",
      "Processing Record: 37 of set 9 | russell\n",
      "Processing Record: 38 of set 9 | faya\n",
      "Processing Record: 39 of set 9 | kristiansund\n",
      "Processing Record: 40 of set 9 | abnub\n",
      "Processing Record: 41 of set 9 | missoula\n",
      "City not found. Skipping...\n",
      "Processing Record: 43 of set 9 | richards bay\n",
      "Processing Record: 44 of set 9 | caravelas\n",
      "Processing Record: 45 of set 9 | rybinsk\n",
      "Processing Record: 46 of set 9 | skelleftea\n",
      "Processing Record: 47 of set 9 | eisenberg\n",
      "Processing Record: 48 of set 9 | takoradi\n",
      "Processing Record: 49 of set 9 | kaohsiung\n",
      "Processing Record: 50 of set 9 | strelka\n",
      "Processing Record: 1 of set 10 | moultrie\n",
      "Processing Record: 2 of set 10 | togur\n",
      "Processing Record: 3 of set 10 | peleduy\n",
      "Processing Record: 4 of set 10 | lasa\n",
      "Processing Record: 5 of set 10 | mint hill\n",
      "Processing Record: 6 of set 10 | durazno\n",
      "Processing Record: 7 of set 10 | calawag\n",
      "City not found. Skipping...\n",
      "Processing Record: 9 of set 10 | yuci\n",
      "Processing Record: 10 of set 10 | ahipara\n",
      "Processing Record: 11 of set 10 | auki\n",
      "Processing Record: 12 of set 10 | jiayuguan\n",
      "Processing Record: 13 of set 10 | gayeri\n",
      "Processing Record: 14 of set 10 | kimbe\n",
      "Processing Record: 15 of set 10 | port augusta\n",
      "Processing Record: 16 of set 10 | kirakira\n",
      "Processing Record: 17 of set 10 | malakal\n",
      "Processing Record: 18 of set 10 | mae hong son\n",
      "Processing Record: 19 of set 10 | marawi\n",
      "Processing Record: 20 of set 10 | lata\n",
      "Processing Record: 21 of set 10 | anadyr\n",
      "Processing Record: 22 of set 10 | mogoytuy\n",
      "Processing Record: 23 of set 10 | dicabisagan\n",
      "City not found. Skipping...\n",
      "Processing Record: 25 of set 10 | tapes\n",
      "Processing Record: 26 of set 10 | piacabucu\n",
      "Processing Record: 27 of set 10 | ambilobe\n",
      "Processing Record: 28 of set 10 | yuanping\n",
      "Processing Record: 29 of set 10 | maguling\n",
      "Processing Record: 30 of set 10 | bouake\n",
      "Processing Record: 31 of set 10 | banjar\n",
      "Processing Record: 32 of set 10 | klaksvik\n",
      "Processing Record: 33 of set 10 | boueni\n",
      "Processing Record: 34 of set 10 | whyalla\n",
      "Processing Record: 35 of set 10 | valdivia\n",
      "Processing Record: 36 of set 10 | linxia\n",
      "Processing Record: 37 of set 10 | yeppoon\n",
      "Processing Record: 38 of set 10 | dingle\n",
      "Processing Record: 39 of set 10 | eyl\n",
      "Processing Record: 40 of set 10 | shitanjing\n",
      "Processing Record: 41 of set 10 | massakory\n",
      "Processing Record: 42 of set 10 | niamey\n",
      "Processing Record: 43 of set 10 | haverfordwest\n",
      "City not found. Skipping...\n",
      "Processing Record: 45 of set 10 | sault sainte marie\n",
      "Processing Record: 46 of set 10 | trenggalek\n",
      "City not found. Skipping...\n",
      "Processing Record: 48 of set 10 | sinnamary\n",
      "Processing Record: 49 of set 10 | karimganj\n",
      "Processing Record: 50 of set 10 | port-gentil\n",
      "City not found. Skipping...\n",
      "Processing Record: 2 of set 11 | yuryev-polskiy\n",
      "Processing Record: 3 of set 11 | balikpapan\n",
      "Processing Record: 4 of set 11 | darnah\n",
      "City not found. Skipping...\n",
      "Processing Record: 6 of set 11 | mabai\n",
      "Processing Record: 7 of set 11 | beringovskiy\n",
      "Processing Record: 8 of set 11 | nhulunbuy\n",
      "Processing Record: 9 of set 11 | acajutla\n",
      "Processing Record: 10 of set 11 | north bend\n",
      "City not found. Skipping...\n",
      "Processing Record: 12 of set 11 | araguaina\n",
      "Processing Record: 13 of set 11 | porosozero\n",
      "Processing Record: 14 of set 11 | coihaique\n",
      "Processing Record: 15 of set 11 | ransang\n",
      "Processing Record: 16 of set 11 | tiksi\n",
      "Processing Record: 17 of set 11 | ukiah\n",
      "Processing Record: 18 of set 11 | panguna\n",
      "Processing Record: 19 of set 11 | jequie\n",
      "City not found. Skipping...\n",
      "Processing Record: 21 of set 11 | alihe\n",
      "Processing Record: 22 of set 11 | sao felix do xingu\n",
      "Processing Record: 23 of set 11 | uva\n",
      "Processing Record: 24 of set 11 | gigmoto\n",
      "Processing Record: 25 of set 11 | jumla\n",
      "Processing Record: 26 of set 11 | conakry\n",
      "Processing Record: 27 of set 11 | palu\n",
      "Processing Record: 28 of set 11 | devrek\n",
      "Processing Record: 29 of set 11 | coari\n",
      "Processing Record: 30 of set 11 | avera\n",
      "Processing Record: 31 of set 11 | muli\n",
      "Processing Record: 32 of set 11 | lakes entrance\n",
      "Processing Record: 33 of set 11 | jackson\n",
      "Processing Record: 34 of set 11 | guanare\n",
      "Processing Record: 35 of set 11 | yulara\n",
      "City not found. Skipping...\n",
      "Processing Record: 37 of set 11 | kismayo\n",
      "Processing Record: 38 of set 11 | troitskoye\n",
      "Processing Record: 39 of set 11 | puerto lleras\n",
      "Processing Record: 40 of set 11 | feltre\n",
      "Processing Record: 41 of set 11 | suzuka\n",
      "Processing Record: 42 of set 11 | shimoda\n",
      "Processing Record: 43 of set 11 | mogadishu\n",
      "Processing Record: 44 of set 11 | mountain home\n",
      "Processing Record: 45 of set 11 | biak\n",
      "Processing Record: 46 of set 11 | tondano\n",
      "Processing Record: 47 of set 11 | siniscola\n",
      "Processing Record: 48 of set 11 | cananea\n",
      "Processing Record: 49 of set 11 | te anau\n",
      "Processing Record: 50 of set 11 | oussouye\n",
      "Processing Record: 1 of set 12 | atar\n",
      "Processing Record: 2 of set 12 | kushmurun\n",
      "Processing Record: 3 of set 12 | abu samrah\n",
      "Processing Record: 4 of set 12 | predivinsk\n",
      "Processing Record: 5 of set 12 | sibolga\n",
      "Processing Record: 6 of set 12 | butka\n",
      "Processing Record: 7 of set 12 | hualmay\n",
      "Processing Record: 8 of set 12 | angoram\n",
      "Processing Record: 9 of set 12 | sechura\n",
      "City not found. Skipping...\n",
      "Processing Record: 11 of set 12 | dong hoi\n",
      "Processing Record: 12 of set 12 | great falls\n",
      "Processing Record: 13 of set 12 | pringsewu\n",
      "Processing Record: 14 of set 12 | oistins\n",
      "Processing Record: 15 of set 12 | becerril\n",
      "Processing Record: 16 of set 12 | bara\n",
      "Processing Record: 17 of set 12 | kitui\n",
      "Processing Record: 18 of set 12 | vila\n",
      "City not found. Skipping...\n",
      "Processing Record: 20 of set 12 | okhotsk\n",
      "Processing Record: 21 of set 12 | petropavlovsk-kamchatskiy\n",
      "Processing Record: 22 of set 12 | linjiang\n",
      "Processing Record: 23 of set 12 | santiago de cao\n",
      "Processing Record: 24 of set 12 | chicama\n",
      "Processing Record: 25 of set 12 | magadan\n",
      "Processing Record: 26 of set 12 | mizdah\n",
      "Processing Record: 27 of set 12 | araguacu\n",
      "Processing Record: 28 of set 12 | volchansk\n",
      "Processing Record: 29 of set 12 | churapcha\n",
      "Processing Record: 30 of set 12 | krasnoselkup\n",
      "Processing Record: 31 of set 12 | henties bay\n",
      "Processing Record: 32 of set 12 | sinjar\n",
      "Processing Record: 33 of set 12 | izumo\n",
      "Processing Record: 34 of set 12 | vestmanna\n",
      "Processing Record: 35 of set 12 | jijiga\n",
      "Processing Record: 36 of set 12 | valky\n",
      "Processing Record: 37 of set 12 | nemuro\n",
      "Processing Record: 38 of set 12 | mount isa\n",
      "Processing Record: 39 of set 12 | cabinda\n",
      "City not found. Skipping...\n",
      "Processing Record: 41 of set 12 | tura\n",
      "Processing Record: 42 of set 12 | dabola\n",
      "Processing Record: 43 of set 12 | kavaratti\n",
      "Processing Record: 44 of set 12 | brae\n",
      "Processing Record: 45 of set 12 | miyata\n",
      "Processing Record: 46 of set 12 | kuito\n",
      "City not found. Skipping...\n",
      "Processing Record: 48 of set 12 | torit\n",
      "Processing Record: 49 of set 12 | numan\n",
      "Processing Record: 50 of set 12 | matagami\n",
      "Processing Record: 1 of set 13 | cangucu\n"
     ]
    },
    {
     "name": "stdout",
     "output_type": "stream",
     "text": [
      "Processing Record: 2 of set 13 | malinyi\n",
      "City not found. Skipping...\n",
      "Processing Record: 4 of set 13 | dunmanway\n",
      "Processing Record: 5 of set 13 | pangnirtung\n",
      "Processing Record: 6 of set 13 | fethiye\n",
      "Processing Record: 7 of set 13 | lingao\n",
      "Processing Record: 8 of set 13 | aktau\n",
      "Processing Record: 9 of set 13 | kichmengskiy gorodok\n",
      "Processing Record: 10 of set 13 | coffs harbour\n",
      "Processing Record: 11 of set 13 | san policarpo\n",
      "Processing Record: 12 of set 13 | kijang\n",
      "Processing Record: 13 of set 13 | etchoropo\n",
      "Processing Record: 14 of set 13 | santa cruz\n",
      "Processing Record: 15 of set 13 | mollendo\n",
      "Processing Record: 16 of set 13 | kabanjahe\n",
      "Processing Record: 17 of set 13 | santa luzia\n",
      "Processing Record: 18 of set 13 | arrecife\n",
      "Processing Record: 19 of set 13 | severo-yeniseyskiy\n",
      "Processing Record: 20 of set 13 | ishigaki\n",
      "Processing Record: 21 of set 13 | sorong\n",
      "Processing Record: 22 of set 13 | zhuanghe\n",
      "Processing Record: 23 of set 13 | christchurch\n",
      "Processing Record: 24 of set 13 | huambo\n",
      "Processing Record: 25 of set 13 | torphins\n",
      "City not found. Skipping...\n",
      "Processing Record: 27 of set 13 | kalengwa\n",
      "Processing Record: 28 of set 13 | amot\n",
      "Processing Record: 29 of set 13 | xai-xai\n",
      "Processing Record: 30 of set 13 | padang\n",
      "Processing Record: 31 of set 13 | jaciara\n",
      "Processing Record: 32 of set 13 | unai\n",
      "City not found. Skipping...\n",
      "Processing Record: 34 of set 13 | oudtshoorn\n",
      "Processing Record: 35 of set 13 | mahibadhoo\n",
      "Processing Record: 36 of set 13 | bud\n",
      "Processing Record: 37 of set 13 | timbiqui\n",
      "City not found. Skipping...\n",
      "Processing Record: 39 of set 13 | kailua\n",
      "Processing Record: 40 of set 13 | ust-koksa\n",
      "Processing Record: 41 of set 13 | bafra\n",
      "Processing Record: 42 of set 13 | la ronge\n",
      "Processing Record: 43 of set 13 | kenai\n",
      "Processing Record: 44 of set 13 | wamba\n",
      "Processing Record: 45 of set 13 | bure\n",
      "Processing Record: 46 of set 13 | santa marta\n",
      "Processing Record: 47 of set 13 | axim\n",
      "Processing Record: 48 of set 13 | chapais\n",
      "Processing Record: 49 of set 13 | khonsa\n",
      "Processing Record: 50 of set 13 | tanete\n",
      "Processing Record: 1 of set 14 | kuryk\n",
      "Processing Record: 2 of set 14 | imbituba\n",
      "Processing Record: 3 of set 14 | mirnyy\n",
      "Processing Record: 4 of set 14 | poya\n",
      "Processing Record: 5 of set 14 | novokruchininskiy\n",
      "Processing Record: 6 of set 14 | semypolky\n",
      "Processing Record: 7 of set 14 | lerwick\n",
      "Processing Record: 8 of set 14 | berlevag\n",
      "Processing Record: 9 of set 14 | omboue\n",
      "Processing Record: 10 of set 14 | nakhon thai\n",
      "Processing Record: 11 of set 14 | bayeux\n",
      "Processing Record: 12 of set 14 | acarau\n",
      "Processing Record: 13 of set 14 | juneau\n",
      "Processing Record: 14 of set 14 | nanakuli\n",
      "Processing Record: 15 of set 14 | polewali\n",
      "Processing Record: 16 of set 14 | tual\n",
      "Processing Record: 17 of set 14 | barra patuca\n",
      "Processing Record: 18 of set 14 | constitucion\n",
      "Processing Record: 19 of set 14 | porbandar\n",
      "Processing Record: 20 of set 14 | dwarka\n",
      "Processing Record: 21 of set 14 | mutis\n",
      "Processing Record: 22 of set 14 | fare\n",
      "Processing Record: 23 of set 14 | talara\n",
      "Processing Record: 24 of set 14 | vangaindrano\n",
      "Processing Record: 25 of set 14 | kungurtug\n",
      "City not found. Skipping...\n",
      "Processing Record: 27 of set 14 | grootfontein\n",
      "Processing Record: 28 of set 14 | pervomayskiy\n",
      "Processing Record: 29 of set 14 | huarmey\n",
      "Processing Record: 30 of set 14 | touros\n",
      "Processing Record: 31 of set 14 | awbari\n",
      "Processing Record: 32 of set 14 | wenling\n",
      "Processing Record: 33 of set 14 | harnosand\n",
      "Processing Record: 34 of set 14 | swift current\n",
      "Processing Record: 35 of set 14 | vilcun\n",
      "Processing Record: 36 of set 14 | gusau\n",
      "Processing Record: 37 of set 14 | balsas\n",
      "Processing Record: 38 of set 14 | hurricane\n",
      "Processing Record: 39 of set 14 | toguchin\n",
      "Processing Record: 40 of set 14 | santo antonio do leverger\n",
      "Processing Record: 41 of set 14 | skuodas\n",
      "Processing Record: 42 of set 14 | state college\n",
      "Processing Record: 43 of set 14 | pembroke\n",
      "Processing Record: 44 of set 14 | chotila\n",
      "Processing Record: 45 of set 14 | lahaina\n",
      "Processing Record: 46 of set 14 | matay\n",
      "Processing Record: 47 of set 14 | pleasanton\n",
      "City not found. Skipping...\n",
      "Processing Record: 49 of set 14 | shakawe\n",
      "Processing Record: 50 of set 14 | saint simons\n",
      "Processing Record: 1 of set 15 | fenoarivo\n",
      "Processing Record: 2 of set 15 | shemonaikha\n",
      "City not found. Skipping...\n",
      "City not found. Skipping...\n",
      "Processing Record: 5 of set 15 | sao sebastiao\n",
      "Processing Record: 6 of set 15 | gillette\n",
      "Processing Record: 7 of set 15 | gushikawa\n",
      "Processing Record: 8 of set 15 | warrnambool\n",
      "Processing Record: 9 of set 15 | sao miguel\n",
      "Processing Record: 10 of set 15 | astara\n",
      "Processing Record: 11 of set 15 | gualaceo\n",
      "Processing Record: 12 of set 15 | marystown\n",
      "Processing Record: 13 of set 15 | gravenhurst\n",
      "Processing Record: 14 of set 15 | anshun\n",
      "Processing Record: 15 of set 15 | half moon bay\n",
      "Processing Record: 16 of set 15 | regina\n",
      "Processing Record: 17 of set 15 | kidal\n",
      "Processing Record: 18 of set 15 | kapenguria\n",
      "Processing Record: 19 of set 15 | putina\n",
      "Processing Record: 20 of set 15 | dutlwe\n",
      "Processing Record: 21 of set 15 | deputatskiy\n",
      "Processing Record: 22 of set 15 | chimbote\n",
      "Processing Record: 23 of set 15 | bulgan\n",
      "Processing Record: 24 of set 15 | baruun-urt\n",
      "Processing Record: 25 of set 15 | kaseda\n",
      "Processing Record: 26 of set 15 | mehamn\n",
      "Processing Record: 27 of set 15 | oranjemund\n",
      "Processing Record: 28 of set 15 | urla\n",
      "Processing Record: 29 of set 15 | tateyama\n",
      "Processing Record: 30 of set 15 | phanom sarakham\n",
      "Processing Record: 31 of set 15 | la baule-escoublac\n",
      "Processing Record: 32 of set 15 | bakchar\n",
      "---------------------------\n",
      "Data Retrieval Complete\n",
      "---------------------------\n"
     ]
    }
   ],
   "source": [
    "url = \"http://api.openweathermap.org/data/2.5/weather?\"\n",
    "max_temp = []\n",
    "humidity = []\n",
    "cloudiness = []\n",
    "windspeed = []\n",
    "country = []\n",
    "date = []\n",
    "lats = []\n",
    "lons = []\n",
    "cities_found = []\n",
    "\n",
    "index = 1\n",
    "Set = 1\n",
    "\n",
    "# Start\n",
    "print(\"Beginning Data Retrieval\")\n",
    "print(\"---------------------------\")\n",
    "\n",
    "# Middle\n",
    "for city in cities:\n",
    "    if index == 51:\n",
    "        index = 1\n",
    "        Set += 1\n",
    "    try:\n",
    "        query_url = f\"{url}&apikey={api_key}&q={city}&units=imperial\"\n",
    "        response = requests.get(query_url).json()\n",
    "        cities_found.append(response['name'])\n",
    "        max_temp.append(response['main']['temp_max'])\n",
    "        humidity.append(response['main']['humidity'])\n",
    "        cloudiness.append(response['clouds']['all'])\n",
    "        windspeed.append(response['wind']['speed'])\n",
    "        country.append(response['sys']['country'])\n",
    "        date.append(response['dt'])\n",
    "        lats.append(response['coord']['lat'])\n",
    "        lons.append(response['coord']['lon'])\n",
    "        print(f'Processing Record: {index} of set {Set} | {city}')\n",
    "        \n",
    "    except KeyError:\n",
    "        print('City not found. Skipping...')\n",
    "        \n",
    "    index += 1\n",
    "    \n",
    "# End\n",
    "print(\"---------------------------\")\n",
    "print(\"Data Retrieval Complete\")\n",
    "print(\"---------------------------\")"
   ]
  },
  {
   "cell_type": "code",
   "execution_count": 8,
   "metadata": {},
   "outputs": [],
   "source": [
    "city_info = pd.DataFrame({\"City\":cities_found,\n",
    "                         \"Max Temperature\": max_temp,\n",
    "                         \"Cloudiness\":cloudiness,\n",
    "                         \"Wind Speed\": windspeed,\n",
    "                         \"Humidity\":humidity,\n",
    "                         \"Date\": date,\n",
    "                         \"Country\":country,\n",
    "                         \"Latitude\":lats,\n",
    "                         \"Longitude\":lons})"
   ]
  },
  {
   "cell_type": "code",
   "execution_count": 9,
   "metadata": {},
   "outputs": [
    {
     "data": {
      "text/html": [
       "<div>\n",
       "<style scoped>\n",
       "    .dataframe tbody tr th:only-of-type {\n",
       "        vertical-align: middle;\n",
       "    }\n",
       "\n",
       "    .dataframe tbody tr th {\n",
       "        vertical-align: top;\n",
       "    }\n",
       "\n",
       "    .dataframe thead th {\n",
       "        text-align: right;\n",
       "    }\n",
       "</style>\n",
       "<table border=\"1\" class=\"dataframe\">\n",
       "  <thead>\n",
       "    <tr style=\"text-align: right;\">\n",
       "      <th></th>\n",
       "      <th>City</th>\n",
       "      <th>Max Temperature</th>\n",
       "      <th>Cloudiness</th>\n",
       "      <th>Wind Speed</th>\n",
       "      <th>Humidity</th>\n",
       "      <th>Date</th>\n",
       "      <th>Country</th>\n",
       "      <th>Latitude</th>\n",
       "      <th>Longitude</th>\n",
       "    </tr>\n",
       "  </thead>\n",
       "  <tbody>\n",
       "    <tr>\n",
       "      <th>0</th>\n",
       "      <td>Shirokiy</td>\n",
       "      <td>31.23</td>\n",
       "      <td>100</td>\n",
       "      <td>11.97</td>\n",
       "      <td>92</td>\n",
       "      <td>1603323025</td>\n",
       "      <td>RU</td>\n",
       "      <td>49.76</td>\n",
       "      <td>129.52</td>\n",
       "    </tr>\n",
       "    <tr>\n",
       "      <th>1</th>\n",
       "      <td>Mataura</td>\n",
       "      <td>62.01</td>\n",
       "      <td>98</td>\n",
       "      <td>5.99</td>\n",
       "      <td>53</td>\n",
       "      <td>1603323025</td>\n",
       "      <td>NZ</td>\n",
       "      <td>-46.19</td>\n",
       "      <td>168.86</td>\n",
       "    </tr>\n",
       "    <tr>\n",
       "      <th>2</th>\n",
       "      <td>Hofn</td>\n",
       "      <td>35.89</td>\n",
       "      <td>73</td>\n",
       "      <td>7.29</td>\n",
       "      <td>79</td>\n",
       "      <td>1603322842</td>\n",
       "      <td>IS</td>\n",
       "      <td>64.25</td>\n",
       "      <td>-15.21</td>\n",
       "    </tr>\n",
       "    <tr>\n",
       "      <th>3</th>\n",
       "      <td>Saint Paul Harbor</td>\n",
       "      <td>46.40</td>\n",
       "      <td>75</td>\n",
       "      <td>11.41</td>\n",
       "      <td>52</td>\n",
       "      <td>1603323026</td>\n",
       "      <td>US</td>\n",
       "      <td>57.79</td>\n",
       "      <td>-152.41</td>\n",
       "    </tr>\n",
       "    <tr>\n",
       "      <th>4</th>\n",
       "      <td>Punta Arenas</td>\n",
       "      <td>50.00</td>\n",
       "      <td>90</td>\n",
       "      <td>12.75</td>\n",
       "      <td>59</td>\n",
       "      <td>1603322731</td>\n",
       "      <td>CL</td>\n",
       "      <td>-53.15</td>\n",
       "      <td>-70.92</td>\n",
       "    </tr>\n",
       "  </tbody>\n",
       "</table>\n",
       "</div>"
      ],
      "text/plain": [
       "                City  Max Temperature  Cloudiness  Wind Speed  Humidity  \\\n",
       "0           Shirokiy            31.23         100       11.97        92   \n",
       "1            Mataura            62.01          98        5.99        53   \n",
       "2               Hofn            35.89          73        7.29        79   \n",
       "3  Saint Paul Harbor            46.40          75       11.41        52   \n",
       "4       Punta Arenas            50.00          90       12.75        59   \n",
       "\n",
       "         Date Country  Latitude  Longitude  \n",
       "0  1603323025      RU     49.76     129.52  \n",
       "1  1603323025      NZ    -46.19     168.86  \n",
       "2  1603322842      IS     64.25     -15.21  \n",
       "3  1603323026      US     57.79    -152.41  \n",
       "4  1603322731      CL    -53.15     -70.92  "
      ]
     },
     "execution_count": 9,
     "metadata": {},
     "output_type": "execute_result"
    }
   ],
   "source": [
    "city_info.head()"
   ]
  },
  {
   "cell_type": "code",
   "execution_count": 10,
   "metadata": {
    "scrolled": false
   },
   "outputs": [
    {
     "data": {
      "text/html": [
       "<div>\n",
       "<style scoped>\n",
       "    .dataframe tbody tr th:only-of-type {\n",
       "        vertical-align: middle;\n",
       "    }\n",
       "\n",
       "    .dataframe tbody tr th {\n",
       "        vertical-align: top;\n",
       "    }\n",
       "\n",
       "    .dataframe thead th {\n",
       "        text-align: right;\n",
       "    }\n",
       "</style>\n",
       "<table border=\"1\" class=\"dataframe\">\n",
       "  <thead>\n",
       "    <tr style=\"text-align: right;\">\n",
       "      <th></th>\n",
       "      <th>City</th>\n",
       "      <th>Latitude</th>\n",
       "      <th>Longitude</th>\n",
       "      <th>Max Temperature</th>\n",
       "      <th>Humidity</th>\n",
       "      <th>Cloudiness</th>\n",
       "      <th>Country</th>\n",
       "      <th>Wind Speed</th>\n",
       "      <th>Date</th>\n",
       "    </tr>\n",
       "  </thead>\n",
       "  <tbody>\n",
       "    <tr>\n",
       "      <th>0</th>\n",
       "      <td>Shirokiy</td>\n",
       "      <td>49.76</td>\n",
       "      <td>129.52</td>\n",
       "      <td>31.23</td>\n",
       "      <td>92</td>\n",
       "      <td>100</td>\n",
       "      <td>RU</td>\n",
       "      <td>11.97</td>\n",
       "      <td>1603323025</td>\n",
       "    </tr>\n",
       "    <tr>\n",
       "      <th>1</th>\n",
       "      <td>Mataura</td>\n",
       "      <td>-46.19</td>\n",
       "      <td>168.86</td>\n",
       "      <td>62.01</td>\n",
       "      <td>53</td>\n",
       "      <td>98</td>\n",
       "      <td>NZ</td>\n",
       "      <td>5.99</td>\n",
       "      <td>1603323025</td>\n",
       "    </tr>\n",
       "    <tr>\n",
       "      <th>2</th>\n",
       "      <td>Hofn</td>\n",
       "      <td>64.25</td>\n",
       "      <td>-15.21</td>\n",
       "      <td>35.89</td>\n",
       "      <td>79</td>\n",
       "      <td>73</td>\n",
       "      <td>IS</td>\n",
       "      <td>7.29</td>\n",
       "      <td>1603322842</td>\n",
       "    </tr>\n",
       "    <tr>\n",
       "      <th>3</th>\n",
       "      <td>Saint Paul Harbor</td>\n",
       "      <td>57.79</td>\n",
       "      <td>-152.41</td>\n",
       "      <td>46.40</td>\n",
       "      <td>52</td>\n",
       "      <td>75</td>\n",
       "      <td>US</td>\n",
       "      <td>11.41</td>\n",
       "      <td>1603323026</td>\n",
       "    </tr>\n",
       "    <tr>\n",
       "      <th>4</th>\n",
       "      <td>Punta Arenas</td>\n",
       "      <td>-53.15</td>\n",
       "      <td>-70.92</td>\n",
       "      <td>50.00</td>\n",
       "      <td>59</td>\n",
       "      <td>90</td>\n",
       "      <td>CL</td>\n",
       "      <td>12.75</td>\n",
       "      <td>1603322731</td>\n",
       "    </tr>\n",
       "  </tbody>\n",
       "</table>\n",
       "</div>"
      ],
      "text/plain": [
       "                City  Latitude  Longitude  Max Temperature  Humidity  \\\n",
       "0           Shirokiy     49.76     129.52            31.23        92   \n",
       "1            Mataura    -46.19     168.86            62.01        53   \n",
       "2               Hofn     64.25     -15.21            35.89        79   \n",
       "3  Saint Paul Harbor     57.79    -152.41            46.40        52   \n",
       "4       Punta Arenas    -53.15     -70.92            50.00        59   \n",
       "\n",
       "   Cloudiness Country  Wind Speed        Date  \n",
       "0         100      RU       11.97  1603323025  \n",
       "1          98      NZ        5.99  1603323025  \n",
       "2          73      IS        7.29  1603322842  \n",
       "3          75      US       11.41  1603323026  \n",
       "4          90      CL       12.75  1603322731  "
      ]
     },
     "execution_count": 10,
     "metadata": {},
     "output_type": "execute_result"
    }
   ],
   "source": [
    "city_info = city_info.reindex(columns = ['City','Latitude',\"Longitude\",\n",
    "                                         \"Max Temperature\",\"Humidity\",\"Cloudiness\",\n",
    "                                         \"Country\",\"Wind Speed\",\"Date\"])\n",
    "city_info.to_csv('../Output/weather.csv',index = False, header = True)\n",
    "city_info.head()"
   ]
  },
  {
   "cell_type": "code",
   "execution_count": 11,
   "metadata": {
    "scrolled": true
   },
   "outputs": [
    {
     "data": {
      "text/html": [
       "<div>\n",
       "<style scoped>\n",
       "    .dataframe tbody tr th:only-of-type {\n",
       "        vertical-align: middle;\n",
       "    }\n",
       "\n",
       "    .dataframe tbody tr th {\n",
       "        vertical-align: top;\n",
       "    }\n",
       "\n",
       "    .dataframe thead th {\n",
       "        text-align: right;\n",
       "    }\n",
       "</style>\n",
       "<table border=\"1\" class=\"dataframe\">\n",
       "  <thead>\n",
       "    <tr style=\"text-align: right;\">\n",
       "      <th></th>\n",
       "      <th>Latitude</th>\n",
       "      <th>Longitude</th>\n",
       "      <th>Max Temperature</th>\n",
       "      <th>Humidity</th>\n",
       "      <th>Cloudiness</th>\n",
       "      <th>Wind Speed</th>\n",
       "      <th>Date</th>\n",
       "    </tr>\n",
       "  </thead>\n",
       "  <tbody>\n",
       "    <tr>\n",
       "      <th>count</th>\n",
       "      <td>674.000000</td>\n",
       "      <td>674.000000</td>\n",
       "      <td>674.000000</td>\n",
       "      <td>674.000000</td>\n",
       "      <td>674.000000</td>\n",
       "      <td>674.000000</td>\n",
       "      <td>6.740000e+02</td>\n",
       "    </tr>\n",
       "    <tr>\n",
       "      <th>mean</th>\n",
       "      <td>19.579332</td>\n",
       "      <td>20.612997</td>\n",
       "      <td>61.131751</td>\n",
       "      <td>74.967359</td>\n",
       "      <td>53.790801</td>\n",
       "      <td>7.664644</td>\n",
       "      <td>1.603323e+09</td>\n",
       "    </tr>\n",
       "    <tr>\n",
       "      <th>std</th>\n",
       "      <td>32.255324</td>\n",
       "      <td>90.720239</td>\n",
       "      <td>20.028701</td>\n",
       "      <td>19.457550</td>\n",
       "      <td>37.453319</td>\n",
       "      <td>4.819084</td>\n",
       "      <td>9.990044e+01</td>\n",
       "    </tr>\n",
       "    <tr>\n",
       "      <th>min</th>\n",
       "      <td>-54.800000</td>\n",
       "      <td>-179.170000</td>\n",
       "      <td>3.650000</td>\n",
       "      <td>6.000000</td>\n",
       "      <td>0.000000</td>\n",
       "      <td>0.360000</td>\n",
       "      <td>1.603323e+09</td>\n",
       "    </tr>\n",
       "    <tr>\n",
       "      <th>25%</th>\n",
       "      <td>-6.220000</td>\n",
       "      <td>-56.405000</td>\n",
       "      <td>46.990000</td>\n",
       "      <td>68.000000</td>\n",
       "      <td>16.000000</td>\n",
       "      <td>4.192500</td>\n",
       "      <td>1.603323e+09</td>\n",
       "    </tr>\n",
       "    <tr>\n",
       "      <th>50%</th>\n",
       "      <td>21.550000</td>\n",
       "      <td>21.455000</td>\n",
       "      <td>64.920000</td>\n",
       "      <td>79.000000</td>\n",
       "      <td>62.500000</td>\n",
       "      <td>6.710000</td>\n",
       "      <td>1.603323e+09</td>\n",
       "    </tr>\n",
       "    <tr>\n",
       "      <th>75%</th>\n",
       "      <td>47.262500</td>\n",
       "      <td>102.442500</td>\n",
       "      <td>77.442500</td>\n",
       "      <td>88.000000</td>\n",
       "      <td>90.000000</td>\n",
       "      <td>10.527500</td>\n",
       "      <td>1.603323e+09</td>\n",
       "    </tr>\n",
       "    <tr>\n",
       "      <th>max</th>\n",
       "      <td>78.220000</td>\n",
       "      <td>179.320000</td>\n",
       "      <td>97.000000</td>\n",
       "      <td>100.000000</td>\n",
       "      <td>100.000000</td>\n",
       "      <td>30.690000</td>\n",
       "      <td>1.603323e+09</td>\n",
       "    </tr>\n",
       "  </tbody>\n",
       "</table>\n",
       "</div>"
      ],
      "text/plain": [
       "         Latitude   Longitude  Max Temperature    Humidity  Cloudiness  \\\n",
       "count  674.000000  674.000000       674.000000  674.000000  674.000000   \n",
       "mean    19.579332   20.612997        61.131751   74.967359   53.790801   \n",
       "std     32.255324   90.720239        20.028701   19.457550   37.453319   \n",
       "min    -54.800000 -179.170000         3.650000    6.000000    0.000000   \n",
       "25%     -6.220000  -56.405000        46.990000   68.000000   16.000000   \n",
       "50%     21.550000   21.455000        64.920000   79.000000   62.500000   \n",
       "75%     47.262500  102.442500        77.442500   88.000000   90.000000   \n",
       "max     78.220000  179.320000        97.000000  100.000000  100.000000   \n",
       "\n",
       "       Wind Speed          Date  \n",
       "count  674.000000  6.740000e+02  \n",
       "mean     7.664644  1.603323e+09  \n",
       "std      4.819084  9.990044e+01  \n",
       "min      0.360000  1.603323e+09  \n",
       "25%      4.192500  1.603323e+09  \n",
       "50%      6.710000  1.603323e+09  \n",
       "75%     10.527500  1.603323e+09  \n",
       "max     30.690000  1.603323e+09  "
      ]
     },
     "execution_count": 11,
     "metadata": {},
     "output_type": "execute_result"
    }
   ],
   "source": [
    "city_info.describe()"
   ]
  },
  {
   "cell_type": "markdown",
   "metadata": {},
   "source": [
    "We can see below that there are no cities with a humidity greater than 100."
   ]
  },
  {
   "cell_type": "code",
   "execution_count": 12,
   "metadata": {},
   "outputs": [
    {
     "data": {
      "text/html": [
       "<div>\n",
       "<style scoped>\n",
       "    .dataframe tbody tr th:only-of-type {\n",
       "        vertical-align: middle;\n",
       "    }\n",
       "\n",
       "    .dataframe tbody tr th {\n",
       "        vertical-align: top;\n",
       "    }\n",
       "\n",
       "    .dataframe thead th {\n",
       "        text-align: right;\n",
       "    }\n",
       "</style>\n",
       "<table border=\"1\" class=\"dataframe\">\n",
       "  <thead>\n",
       "    <tr style=\"text-align: right;\">\n",
       "      <th></th>\n",
       "      <th>City</th>\n",
       "      <th>Latitude</th>\n",
       "      <th>Longitude</th>\n",
       "      <th>Max Temperature</th>\n",
       "      <th>Humidity</th>\n",
       "      <th>Cloudiness</th>\n",
       "      <th>Country</th>\n",
       "      <th>Wind Speed</th>\n",
       "      <th>Date</th>\n",
       "    </tr>\n",
       "  </thead>\n",
       "  <tbody>\n",
       "  </tbody>\n",
       "</table>\n",
       "</div>"
      ],
      "text/plain": [
       "Empty DataFrame\n",
       "Columns: [City, Latitude, Longitude, Max Temperature, Humidity, Cloudiness, Country, Wind Speed, Date]\n",
       "Index: []"
      ]
     },
     "execution_count": 12,
     "metadata": {},
     "output_type": "execute_result"
    }
   ],
   "source": [
    "city_info.loc[city_info['Humidity']>100]"
   ]
  },
  {
   "cell_type": "markdown",
   "metadata": {},
   "source": [
    "## Plotting the Data\n",
    "* Use proper labeling of the plots using plot titles (including date of analysis) and axes labels.\n",
    "* Save the plotted figures as .pngs."
   ]
  },
  {
   "cell_type": "markdown",
   "metadata": {},
   "source": [
    "## Latitude vs. Temperature Plot"
   ]
  },
  {
   "cell_type": "code",
   "execution_count": 13,
   "metadata": {
    "scrolled": true
   },
   "outputs": [
    {
     "data": {
      "image/png": "[encoded data removed]",
      "text/plain": [
       "<Figure size 432x288 with 1 Axes>"
      ]
     },
     "metadata": {
      "needs_background": "light"
     },
     "output_type": "display_data"
    }
   ],
   "source": [
    "plt.scatter(city_info[\"Latitude\"],city_info[\"Max Temperature\"],edgecolors=\"black\",facecolors=\"violet\")\n",
    "plt.title(\"City Latitude vs. Max Temperature\")\n",
    "plt.xlabel(\"Latitude\")\n",
    "plt.ylabel(\"Max Temperature (F)\")\n",
    "plt.grid()\n",
    "plt.savefig('../output/Lat_vs_temp_scatter')\n",
    "plt.show()"
   ]
  },
  {
   "cell_type": "markdown",
   "metadata": {},
   "source": [
    "## Latitude vs. Humidity Plot"
   ]
  },
  {
   "cell_type": "code",
   "execution_count": 14,
   "metadata": {},
   "outputs": [
    {
     "data": {
      "image/png": "[encoded data removed]",
      "text/plain": [
       "<Figure size 432x288 with 1 Axes>"
      ]
     },
     "metadata": {
      "needs_background": "light"
     },
     "output_type": "display_data"
    }
   ],
   "source": [
    "plt.scatter(city_info[\"Latitude\"],city_info[\"Humidity\"],edgecolors=\"black\",facecolors=\"violet\")\n",
    "plt.title(\"City Latitude vs. Humidity\")\n",
    "plt.xlabel(\"Latitude\")\n",
    "plt.ylabel(\"Humidity\")\n",
    "plt.grid()\n",
    "plt.savefig('../output/Lat_vs_humidity_scatter')\n",
    "plt.show()"
   ]
  },
  {
   "cell_type": "markdown",
   "metadata": {},
   "source": [
    "## Latitude vs. Cloudiness Plot"
   ]
  },
  {
   "cell_type": "code",
   "execution_count": 15,
   "metadata": {},
   "outputs": [
    {
     "data": {
      "image/png": "[encoded data removed]",
      "text/plain": [
       "<Figure size 432x288 with 1 Axes>"
      ]
     },
     "metadata": {
      "needs_background": "light"
     },
     "output_type": "display_data"
    }
   ],
   "source": [
    "plt.scatter(city_info[\"Latitude\"],city_info[\"Cloudiness\"],edgecolors=\"black\",facecolors=\"violet\")\n",
    "plt.title(\"City Latitude vs. Cloudiness\")\n",
    "plt.xlabel(\"Latitude\")\n",
    "plt.ylabel(\"Cloudiness (%)\")\n",
    "plt.grid()\n",
    "plt.savefig('../output/Lat_vs_cloudiness_scatter')\n",
    "plt.show()"
   ]
  },
  {
   "cell_type": "markdown",
   "metadata": {},
   "source": [
    "## Latitude vs. Wind Speed Plot"
   ]
  },
  {
   "cell_type": "code",
   "execution_count": 16,
   "metadata": {},
   "outputs": [
    {
     "data": {
      "image/png": "[encoded data removed]",
      "text/plain": [
       "<Figure size 432x288 with 1 Axes>"
      ]
     },
     "metadata": {
      "needs_background": "light"
     },
     "output_type": "display_data"
    }
   ],
   "source": [
    "plt.scatter(city_info[\"Latitude\"],city_info[\"Wind Speed\"],edgecolors=\"black\",facecolors=\"violet\")\n",
    "plt.title(\"City Latitude vs. Wind Speed\")\n",
    "plt.xlabel(\"Latitude\")\n",
    "plt.ylabel(\"Wind Speed (mph)\")\n",
    "plt.grid()\n",
    "plt.savefig('../output/Lat_vs_windspeed_scatter')\n",
    "plt.show()"
   ]
  },
  {
   "cell_type": "markdown",
   "metadata": {},
   "source": [
    "## Linear Regression"
   ]
  },
  {
   "cell_type": "code",
   "execution_count": 17,
   "metadata": {},
   "outputs": [],
   "source": [
    "def plot_regress(x,y):\n",
    "    stats = sts.linregress(x,y)\n",
    "    stats\n",
    "    slope = stats[0]\n",
    "    intercept = stats[1]\n",
    "    r_val = stats[2]\n",
    "    mean = y.mean()\n",
    "    \n",
    "    plt.scatter(x,y)\n",
    "    plt.plot(x, x*slope+intercept, color = 'red')\n",
    "    plt.xlabel(\"Latitude\")\n",
    "    print(f\"The r-value is {r_val}\")"
   ]
  },
  {
   "cell_type": "code",
   "execution_count": 18,
   "metadata": {},
   "outputs": [],
   "source": [
    "north = city_info.loc[city_info['Latitude']>0]\n",
    "south = city_info.loc[city_info['Latitude']<0]"
   ]
  },
  {
   "cell_type": "markdown",
   "metadata": {},
   "source": [
    "####  Northern Hemisphere - Max Temp vs. Latitude Linear Regression"
   ]
  },
  {
   "cell_type": "code",
   "execution_count": 19,
   "metadata": {
    "scrolled": true
   },
   "outputs": [
    {
     "name": "stdout",
     "output_type": "stream",
     "text": [
      "The r-value is -0.873633054694511\n"
     ]
    },
    {
     "data": {
      "image/png": "[encoded data removed]",
      "text/plain": [
       "<Figure size 432x288 with 1 Axes>"
      ]
     },
     "metadata": {
      "needs_background": "light"
     },
     "output_type": "display_data"
    }
   ],
   "source": [
    "plot_regress(north[\"Latitude\"],north[\"Max Temperature\"])\n",
    "plt.ylabel(\"Max Temperature\")\n",
    "plt.show()"
   ]
  },
  {
   "cell_type": "markdown",
   "metadata": {},
   "source": [
    "####  Southern Hemisphere - Max Temp vs. Latitude Linear Regression"
   ]
  },
  {
   "cell_type": "code",
   "execution_count": 20,
   "metadata": {},
   "outputs": [
    {
     "name": "stdout",
     "output_type": "stream",
     "text": [
      "The r-value is 0.656961783692091\n"
     ]
    },
    {
     "data": {
      "image/png": "[encoded data removed]",
      "text/plain": [
       "<Figure size 432x288 with 1 Axes>"
      ]
     },
     "metadata": {
      "needs_background": "light"
     },
     "output_type": "display_data"
    }
   ],
   "source": [
    "plot_regress(south[\"Latitude\"],south[\"Max Temperature\"])\n",
    "plt.ylabel(\"Max Temperature\")\n",
    "plt.show()"
   ]
  },
  {
   "cell_type": "markdown",
   "metadata": {},
   "source": [
    "####  Northern Hemisphere - Humidity (%) vs. Latitude Linear Regression"
   ]
  },
  {
   "cell_type": "code",
   "execution_count": 21,
   "metadata": {},
   "outputs": [
    {
     "name": "stdout",
     "output_type": "stream",
     "text": [
      "The r-value is 0.22568666899916204\n"
     ]
    },
    {
     "data": {
      "image/png": "[encoded data removed]",
      "text/plain": [
       "<Figure size 432x288 with 1 Axes>"
      ]
     },
     "metadata": {
      "needs_background": "light"
     },
     "output_type": "display_data"
    }
   ],
   "source": [
    "plot_regress(north[\"Latitude\"],north[\"Humidity\"])\n",
    "plt.ylabel(\"Humidity\")\n",
    "plt.show()"
   ]
  },
  {
   "cell_type": "markdown",
   "metadata": {},
   "source": [
    "####  Southern Hemisphere - Humidity (%) vs. Latitude Linear Regression"
   ]
  },
  {
   "cell_type": "code",
   "execution_count": 22,
   "metadata": {},
   "outputs": [
    {
     "name": "stdout",
     "output_type": "stream",
     "text": [
      "The r-value is 0.1440502654656534\n"
     ]
    },
    {
     "data": {
      "image/png": "[encoded data removed]",
      "text/plain": [
       "<Figure size 432x288 with 1 Axes>"
      ]
     },
     "metadata": {
      "needs_background": "light"
     },
     "output_type": "display_data"
    }
   ],
   "source": [
    "plot_regress(south[\"Latitude\"],south[\"Humidity\"])\n",
    "plt.ylabel(\"Humidity\")\n",
    "plt.show()"
   ]
  },
  {
   "cell_type": "markdown",
   "metadata": {},
   "source": [
    "####  Northern Hemisphere - Cloudiness (%) vs. Latitude Linear Regression"
   ]
  },
  {
   "cell_type": "code",
   "execution_count": 23,
   "metadata": {},
   "outputs": [
    {
     "name": "stdout",
     "output_type": "stream",
     "text": [
      "The r-value is 0.2066608324739529\n"
     ]
    },
    {
     "data": {
      "image/png": "[encoded data removed]",
      "text/plain": [
       "<Figure size 432x288 with 1 Axes>"
      ]
     },
     "metadata": {
      "needs_background": "light"
     },
     "output_type": "display_data"
    }
   ],
   "source": [
    "plot_regress(north[\"Latitude\"],north[\"Cloudiness\"])\n",
    "plt.ylabel(\"Cloudiness\")\n",
    "plt.show()"
   ]
  },
  {
   "cell_type": "markdown",
   "metadata": {},
   "source": [
    "####  Southern Hemisphere - Cloudiness (%) vs. Latitude Linear Regression"
   ]
  },
  {
   "cell_type": "code",
   "execution_count": 24,
   "metadata": {},
   "outputs": [
    {
     "name": "stdout",
     "output_type": "stream",
     "text": [
      "The r-value is 0.052276623801624816\n"
     ]
    },
    {
     "data": {
      "image/png": "[encoded data removed]",
      "text/plain": [
       "<Figure size 432x288 with 1 Axes>"
      ]
     },
     "metadata": {
      "needs_background": "light"
     },
     "output_type": "display_data"
    }
   ],
   "source": [
    "plot_regress(south[\"Latitude\"],south[\"Cloudiness\"])\n",
    "plt.ylabel(\"Cloudiness\")\n",
    "plt.show()"
   ]
  },
  {
   "cell_type": "markdown",
   "metadata": {},
   "source": [
    "####  Northern Hemisphere - Wind Speed (mph) vs. Latitude Linear Regression"
   ]
  },
  {
   "cell_type": "code",
   "execution_count": 25,
   "metadata": {},
   "outputs": [
    {
     "name": "stdout",
     "output_type": "stream",
     "text": [
      "The r-value is 0.09872072920882466\n"
     ]
    },
    {
     "data": {
      "image/png": "[encoded data removed]",
      "text/plain": [
       "<Figure size 432x288 with 1 Axes>"
      ]
     },
     "metadata": {
      "needs_background": "light"
     },
     "output_type": "display_data"
    }
   ],
   "source": [
    "plot_regress(north[\"Latitude\"],north[\"Wind Speed\"])\n",
    "plt.ylabel(\"Wind Speed\")\n",
    "plt.show()"
   ]
  },
  {
   "cell_type": "markdown",
   "metadata": {},
   "source": [
    "####  Southern Hemisphere - Wind Speed (mph) vs. Latitude Linear Regression"
   ]
  },
  {
   "cell_type": "code",
   "execution_count": 26,
   "metadata": {},
   "outputs": [
    {
     "name": "stdout",
     "output_type": "stream",
     "text": [
      "The r-value is -0.20191984857433892\n"
     ]
    },
    {
     "data": {
      "image/png": "[encoded data removed]",
      "text/plain": [
       "<Figure size 432x288 with 1 Axes>"
      ]
     },
     "metadata": {
      "needs_background": "light"
     },
     "output_type": "display_data"
    }
   ],
   "source": [
    "plot_regress(south[\"Latitude\"],south[\"Wind Speed\"])\n",
    "plt.ylabel(\"Wind Speed\")\n",
    "plt.show()"
   ]
  }
 ],
 "metadata": {
  "anaconda-cloud": {},
  "kernel_info": {
   "name": "python3"
  },
  "kernelspec": {
   "display_name": "Python 3",
   "language": "python",
   "name": "python3"
  },
  "language_info": {
   "codemirror_mode": {
    "name": "ipython",
    "version": 3
   },
   "file_extension": ".py",
   "mimetype": "text/x-python",
   "name": "python",
   "nbconvert_exporter": "python",
   "pygments_lexer": "ipython3",
   "version": "3.6.10"
  },
  "latex_envs": {
   "LaTeX_envs_menu_present": true,
   "autoclose": false,
   "autocomplete": true,
   "bibliofile": "biblio.bib",
   "cite_by": "apalike",
   "current_citInitial": 1,
   "eqLabelWithNumbers": true,
   "eqNumInitial": 1,
   "hotkeys": {
    "equation": "Ctrl-E",
    "itemize": "Ctrl-I"
   },
   "labels_anchors": false,
   "latex_user_defs": false,
   "report_style_numbering": false,
   "user_envs_cfg": false
  },
  "nteract": {
   "version": "0.12.3"
  }
 },
 "nbformat": 4,
 "nbformat_minor": 2
}
